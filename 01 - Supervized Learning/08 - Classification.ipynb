{
 "cells": [
  {
   "cell_type": "markdown",
   "id": "af44c761",
   "metadata": {},
   "source": [
    "# Classification\n",
    "--------------"
   ]
  },
  {
   "cell_type": "code",
   "execution_count": 70,
   "id": "34b2f954",
   "metadata": {},
   "outputs": [],
   "source": [
    "# Importing necessary libraries:\n",
    "import numpy as np \n",
    "import pandas as pd \n",
    "import matplotlib.pyplot as plt \n",
    "import seaborn as sns\n",
    "\n",
    "%matplotlib inline\n",
    "sns.set(color_codes = True)"
   ]
  },
  {
   "cell_type": "code",
   "execution_count": 71,
   "id": "283fdbb1",
   "metadata": {},
   "outputs": [],
   "source": [
    "# Loading dataset:\n",
    "data = pd.read_csv(\"income.csv\")"
   ]
  },
  {
   "cell_type": "code",
   "execution_count": 72,
   "id": "2653fa63",
   "metadata": {},
   "outputs": [
    {
     "data": {
      "text/html": [
       "<div>\n",
       "<style scoped>\n",
       "    .dataframe tbody tr th:only-of-type {\n",
       "        vertical-align: middle;\n",
       "    }\n",
       "\n",
       "    .dataframe tbody tr th {\n",
       "        vertical-align: top;\n",
       "    }\n",
       "\n",
       "    .dataframe thead th {\n",
       "        text-align: right;\n",
       "    }\n",
       "</style>\n",
       "<table border=\"1\" class=\"dataframe\">\n",
       "  <thead>\n",
       "    <tr style=\"text-align: right;\">\n",
       "      <th></th>\n",
       "      <th>age</th>\n",
       "      <th>workclass</th>\n",
       "      <th>education</th>\n",
       "      <th>education-num</th>\n",
       "      <th>marital-status</th>\n",
       "      <th>occupation</th>\n",
       "      <th>relationship</th>\n",
       "      <th>race</th>\n",
       "      <th>sex</th>\n",
       "      <th>capital-gain</th>\n",
       "      <th>capital-loss</th>\n",
       "      <th>hours-per-week</th>\n",
       "      <th>native-country</th>\n",
       "      <th>income &gt;50K</th>\n",
       "    </tr>\n",
       "  </thead>\n",
       "  <tbody>\n",
       "    <tr>\n",
       "      <th>0</th>\n",
       "      <td>39</td>\n",
       "      <td>State-gov</td>\n",
       "      <td>Bachelors</td>\n",
       "      <td>13</td>\n",
       "      <td>Never-married</td>\n",
       "      <td>Adm-clerical</td>\n",
       "      <td>Not-in-family</td>\n",
       "      <td>White</td>\n",
       "      <td>Male</td>\n",
       "      <td>2174</td>\n",
       "      <td>0</td>\n",
       "      <td>40</td>\n",
       "      <td>United-States</td>\n",
       "      <td>0</td>\n",
       "    </tr>\n",
       "    <tr>\n",
       "      <th>1</th>\n",
       "      <td>50</td>\n",
       "      <td>Self-emp-not-inc</td>\n",
       "      <td>Bachelors</td>\n",
       "      <td>13</td>\n",
       "      <td>Married-civ-spouse</td>\n",
       "      <td>Exec-managerial</td>\n",
       "      <td>Husband</td>\n",
       "      <td>White</td>\n",
       "      <td>Male</td>\n",
       "      <td>0</td>\n",
       "      <td>0</td>\n",
       "      <td>13</td>\n",
       "      <td>United-States</td>\n",
       "      <td>0</td>\n",
       "    </tr>\n",
       "    <tr>\n",
       "      <th>2</th>\n",
       "      <td>38</td>\n",
       "      <td>Private</td>\n",
       "      <td>HS-grad</td>\n",
       "      <td>9</td>\n",
       "      <td>Divorced</td>\n",
       "      <td>Handlers-cleaners</td>\n",
       "      <td>Not-in-family</td>\n",
       "      <td>White</td>\n",
       "      <td>Male</td>\n",
       "      <td>0</td>\n",
       "      <td>0</td>\n",
       "      <td>40</td>\n",
       "      <td>United-States</td>\n",
       "      <td>0</td>\n",
       "    </tr>\n",
       "    <tr>\n",
       "      <th>3</th>\n",
       "      <td>53</td>\n",
       "      <td>Private</td>\n",
       "      <td>11th</td>\n",
       "      <td>7</td>\n",
       "      <td>Married-civ-spouse</td>\n",
       "      <td>Handlers-cleaners</td>\n",
       "      <td>Husband</td>\n",
       "      <td>Black</td>\n",
       "      <td>Male</td>\n",
       "      <td>0</td>\n",
       "      <td>0</td>\n",
       "      <td>40</td>\n",
       "      <td>United-States</td>\n",
       "      <td>0</td>\n",
       "    </tr>\n",
       "    <tr>\n",
       "      <th>4</th>\n",
       "      <td>28</td>\n",
       "      <td>Private</td>\n",
       "      <td>Bachelors</td>\n",
       "      <td>13</td>\n",
       "      <td>Married-civ-spouse</td>\n",
       "      <td>Prof-specialty</td>\n",
       "      <td>Wife</td>\n",
       "      <td>Black</td>\n",
       "      <td>Female</td>\n",
       "      <td>0</td>\n",
       "      <td>0</td>\n",
       "      <td>40</td>\n",
       "      <td>Cuba</td>\n",
       "      <td>0</td>\n",
       "    </tr>\n",
       "    <tr>\n",
       "      <th>...</th>\n",
       "      <td>...</td>\n",
       "      <td>...</td>\n",
       "      <td>...</td>\n",
       "      <td>...</td>\n",
       "      <td>...</td>\n",
       "      <td>...</td>\n",
       "      <td>...</td>\n",
       "      <td>...</td>\n",
       "      <td>...</td>\n",
       "      <td>...</td>\n",
       "      <td>...</td>\n",
       "      <td>...</td>\n",
       "      <td>...</td>\n",
       "      <td>...</td>\n",
       "    </tr>\n",
       "    <tr>\n",
       "      <th>32556</th>\n",
       "      <td>27</td>\n",
       "      <td>Private</td>\n",
       "      <td>Assoc-acdm</td>\n",
       "      <td>12</td>\n",
       "      <td>Married-civ-spouse</td>\n",
       "      <td>Tech-support</td>\n",
       "      <td>Wife</td>\n",
       "      <td>White</td>\n",
       "      <td>Female</td>\n",
       "      <td>0</td>\n",
       "      <td>0</td>\n",
       "      <td>38</td>\n",
       "      <td>United-States</td>\n",
       "      <td>0</td>\n",
       "    </tr>\n",
       "    <tr>\n",
       "      <th>32557</th>\n",
       "      <td>40</td>\n",
       "      <td>Private</td>\n",
       "      <td>HS-grad</td>\n",
       "      <td>9</td>\n",
       "      <td>Married-civ-spouse</td>\n",
       "      <td>Machine-op-inspct</td>\n",
       "      <td>Husband</td>\n",
       "      <td>White</td>\n",
       "      <td>Male</td>\n",
       "      <td>0</td>\n",
       "      <td>0</td>\n",
       "      <td>40</td>\n",
       "      <td>United-States</td>\n",
       "      <td>1</td>\n",
       "    </tr>\n",
       "    <tr>\n",
       "      <th>32558</th>\n",
       "      <td>58</td>\n",
       "      <td>Private</td>\n",
       "      <td>HS-grad</td>\n",
       "      <td>9</td>\n",
       "      <td>Widowed</td>\n",
       "      <td>Adm-clerical</td>\n",
       "      <td>Unmarried</td>\n",
       "      <td>White</td>\n",
       "      <td>Female</td>\n",
       "      <td>0</td>\n",
       "      <td>0</td>\n",
       "      <td>40</td>\n",
       "      <td>United-States</td>\n",
       "      <td>0</td>\n",
       "    </tr>\n",
       "    <tr>\n",
       "      <th>32559</th>\n",
       "      <td>22</td>\n",
       "      <td>Private</td>\n",
       "      <td>HS-grad</td>\n",
       "      <td>9</td>\n",
       "      <td>Never-married</td>\n",
       "      <td>Adm-clerical</td>\n",
       "      <td>Own-child</td>\n",
       "      <td>White</td>\n",
       "      <td>Male</td>\n",
       "      <td>0</td>\n",
       "      <td>0</td>\n",
       "      <td>20</td>\n",
       "      <td>United-States</td>\n",
       "      <td>0</td>\n",
       "    </tr>\n",
       "    <tr>\n",
       "      <th>32560</th>\n",
       "      <td>52</td>\n",
       "      <td>Self-emp-inc</td>\n",
       "      <td>HS-grad</td>\n",
       "      <td>9</td>\n",
       "      <td>Married-civ-spouse</td>\n",
       "      <td>Exec-managerial</td>\n",
       "      <td>Wife</td>\n",
       "      <td>White</td>\n",
       "      <td>Female</td>\n",
       "      <td>15024</td>\n",
       "      <td>0</td>\n",
       "      <td>40</td>\n",
       "      <td>United-States</td>\n",
       "      <td>1</td>\n",
       "    </tr>\n",
       "  </tbody>\n",
       "</table>\n",
       "<p>32561 rows × 14 columns</p>\n",
       "</div>"
      ],
      "text/plain": [
       "       age         workclass   education  education-num      marital-status  \\\n",
       "0       39         State-gov   Bachelors             13       Never-married   \n",
       "1       50  Self-emp-not-inc   Bachelors             13  Married-civ-spouse   \n",
       "2       38           Private     HS-grad              9            Divorced   \n",
       "3       53           Private        11th              7  Married-civ-spouse   \n",
       "4       28           Private   Bachelors             13  Married-civ-spouse   \n",
       "...    ...               ...         ...            ...                 ...   \n",
       "32556   27           Private  Assoc-acdm             12  Married-civ-spouse   \n",
       "32557   40           Private     HS-grad              9  Married-civ-spouse   \n",
       "32558   58           Private     HS-grad              9             Widowed   \n",
       "32559   22           Private     HS-grad              9       Never-married   \n",
       "32560   52      Self-emp-inc     HS-grad              9  Married-civ-spouse   \n",
       "\n",
       "              occupation   relationship   race     sex  capital-gain  \\\n",
       "0           Adm-clerical  Not-in-family  White    Male          2174   \n",
       "1        Exec-managerial        Husband  White    Male             0   \n",
       "2      Handlers-cleaners  Not-in-family  White    Male             0   \n",
       "3      Handlers-cleaners        Husband  Black    Male             0   \n",
       "4         Prof-specialty           Wife  Black  Female             0   \n",
       "...                  ...            ...    ...     ...           ...   \n",
       "32556       Tech-support           Wife  White  Female             0   \n",
       "32557  Machine-op-inspct        Husband  White    Male             0   \n",
       "32558       Adm-clerical      Unmarried  White  Female             0   \n",
       "32559       Adm-clerical      Own-child  White    Male             0   \n",
       "32560    Exec-managerial           Wife  White  Female         15024   \n",
       "\n",
       "       capital-loss  hours-per-week native-country  income >50K  \n",
       "0                 0              40  United-States            0  \n",
       "1                 0              13  United-States            0  \n",
       "2                 0              40  United-States            0  \n",
       "3                 0              40  United-States            0  \n",
       "4                 0              40           Cuba            0  \n",
       "...             ...             ...            ...          ...  \n",
       "32556             0              38  United-States            0  \n",
       "32557             0              40  United-States            1  \n",
       "32558             0              40  United-States            0  \n",
       "32559             0              20  United-States            0  \n",
       "32560             0              40  United-States            1  \n",
       "\n",
       "[32561 rows x 14 columns]"
      ]
     },
     "execution_count": 72,
     "metadata": {},
     "output_type": "execute_result"
    }
   ],
   "source": [
    "data"
   ]
  },
  {
   "cell_type": "code",
   "execution_count": 73,
   "id": "ebc3f0b1",
   "metadata": {},
   "outputs": [
    {
     "data": {
      "text/plain": [
       "<AxesSubplot:xlabel='income >50K', ylabel='count'>"
      ]
     },
     "execution_count": 73,
     "metadata": {},
     "output_type": "execute_result"
    },
    {
     "data": {
      "image/png": "[encoded data removed]",
      "text/plain": [
       "<Figure size 720x360 with 1 Axes>"
      ]
     },
     "metadata": {},
     "output_type": "display_data"
    }
   ],
   "source": [
    "plt.figure(figsize = (10, 5))\n",
    "sns.countplot(x = \"income >50K\", data = data)"
   ]
  },
  {
   "cell_type": "code",
   "execution_count": 74,
   "id": "d99b2d1f",
   "metadata": {},
   "outputs": [
    {
     "data": {
      "text/plain": [
       "age                  0\n",
       "workclass         1836\n",
       "education            0\n",
       "education-num        0\n",
       "marital-status       0\n",
       "occupation        1843\n",
       "relationship         0\n",
       "race                 0\n",
       "sex                  0\n",
       "capital-gain         0\n",
       "capital-loss         0\n",
       "hours-per-week       0\n",
       "native-country     583\n",
       "income >50K          0\n",
       "dtype: int64"
      ]
     },
     "execution_count": 74,
     "metadata": {},
     "output_type": "execute_result"
    }
   ],
   "source": [
    "data.isnull().sum()"
   ]
  },
  {
   "cell_type": "code",
   "execution_count": 75,
   "id": "21fb5616",
   "metadata": {},
   "outputs": [],
   "source": [
    "data = data.drop([\"workclass\", \"occupation\", \"native-country\"], axis = 1)"
   ]
  },
  {
   "cell_type": "code",
   "execution_count": 76,
   "id": "b38f863d",
   "metadata": {},
   "outputs": [
    {
     "data": {
      "text/html": [
       "<div>\n",
       "<style scoped>\n",
       "    .dataframe tbody tr th:only-of-type {\n",
       "        vertical-align: middle;\n",
       "    }\n",
       "\n",
       "    .dataframe tbody tr th {\n",
       "        vertical-align: top;\n",
       "    }\n",
       "\n",
       "    .dataframe thead th {\n",
       "        text-align: right;\n",
       "    }\n",
       "</style>\n",
       "<table border=\"1\" class=\"dataframe\">\n",
       "  <thead>\n",
       "    <tr style=\"text-align: right;\">\n",
       "      <th></th>\n",
       "      <th>age</th>\n",
       "      <th>education</th>\n",
       "      <th>education-num</th>\n",
       "      <th>marital-status</th>\n",
       "      <th>relationship</th>\n",
       "      <th>race</th>\n",
       "      <th>sex</th>\n",
       "      <th>capital-gain</th>\n",
       "      <th>capital-loss</th>\n",
       "      <th>hours-per-week</th>\n",
       "      <th>income &gt;50K</th>\n",
       "    </tr>\n",
       "  </thead>\n",
       "  <tbody>\n",
       "    <tr>\n",
       "      <th>0</th>\n",
       "      <td>39</td>\n",
       "      <td>Bachelors</td>\n",
       "      <td>13</td>\n",
       "      <td>Never-married</td>\n",
       "      <td>Not-in-family</td>\n",
       "      <td>White</td>\n",
       "      <td>Male</td>\n",
       "      <td>2174</td>\n",
       "      <td>0</td>\n",
       "      <td>40</td>\n",
       "      <td>0</td>\n",
       "    </tr>\n",
       "    <tr>\n",
       "      <th>1</th>\n",
       "      <td>50</td>\n",
       "      <td>Bachelors</td>\n",
       "      <td>13</td>\n",
       "      <td>Married-civ-spouse</td>\n",
       "      <td>Husband</td>\n",
       "      <td>White</td>\n",
       "      <td>Male</td>\n",
       "      <td>0</td>\n",
       "      <td>0</td>\n",
       "      <td>13</td>\n",
       "      <td>0</td>\n",
       "    </tr>\n",
       "    <tr>\n",
       "      <th>2</th>\n",
       "      <td>38</td>\n",
       "      <td>HS-grad</td>\n",
       "      <td>9</td>\n",
       "      <td>Divorced</td>\n",
       "      <td>Not-in-family</td>\n",
       "      <td>White</td>\n",
       "      <td>Male</td>\n",
       "      <td>0</td>\n",
       "      <td>0</td>\n",
       "      <td>40</td>\n",
       "      <td>0</td>\n",
       "    </tr>\n",
       "    <tr>\n",
       "      <th>3</th>\n",
       "      <td>53</td>\n",
       "      <td>11th</td>\n",
       "      <td>7</td>\n",
       "      <td>Married-civ-spouse</td>\n",
       "      <td>Husband</td>\n",
       "      <td>Black</td>\n",
       "      <td>Male</td>\n",
       "      <td>0</td>\n",
       "      <td>0</td>\n",
       "      <td>40</td>\n",
       "      <td>0</td>\n",
       "    </tr>\n",
       "    <tr>\n",
       "      <th>4</th>\n",
       "      <td>28</td>\n",
       "      <td>Bachelors</td>\n",
       "      <td>13</td>\n",
       "      <td>Married-civ-spouse</td>\n",
       "      <td>Wife</td>\n",
       "      <td>Black</td>\n",
       "      <td>Female</td>\n",
       "      <td>0</td>\n",
       "      <td>0</td>\n",
       "      <td>40</td>\n",
       "      <td>0</td>\n",
       "    </tr>\n",
       "    <tr>\n",
       "      <th>...</th>\n",
       "      <td>...</td>\n",
       "      <td>...</td>\n",
       "      <td>...</td>\n",
       "      <td>...</td>\n",
       "      <td>...</td>\n",
       "      <td>...</td>\n",
       "      <td>...</td>\n",
       "      <td>...</td>\n",
       "      <td>...</td>\n",
       "      <td>...</td>\n",
       "      <td>...</td>\n",
       "    </tr>\n",
       "    <tr>\n",
       "      <th>32556</th>\n",
       "      <td>27</td>\n",
       "      <td>Assoc-acdm</td>\n",
       "      <td>12</td>\n",
       "      <td>Married-civ-spouse</td>\n",
       "      <td>Wife</td>\n",
       "      <td>White</td>\n",
       "      <td>Female</td>\n",
       "      <td>0</td>\n",
       "      <td>0</td>\n",
       "      <td>38</td>\n",
       "      <td>0</td>\n",
       "    </tr>\n",
       "    <tr>\n",
       "      <th>32557</th>\n",
       "      <td>40</td>\n",
       "      <td>HS-grad</td>\n",
       "      <td>9</td>\n",
       "      <td>Married-civ-spouse</td>\n",
       "      <td>Husband</td>\n",
       "      <td>White</td>\n",
       "      <td>Male</td>\n",
       "      <td>0</td>\n",
       "      <td>0</td>\n",
       "      <td>40</td>\n",
       "      <td>1</td>\n",
       "    </tr>\n",
       "    <tr>\n",
       "      <th>32558</th>\n",
       "      <td>58</td>\n",
       "      <td>HS-grad</td>\n",
       "      <td>9</td>\n",
       "      <td>Widowed</td>\n",
       "      <td>Unmarried</td>\n",
       "      <td>White</td>\n",
       "      <td>Female</td>\n",
       "      <td>0</td>\n",
       "      <td>0</td>\n",
       "      <td>40</td>\n",
       "      <td>0</td>\n",
       "    </tr>\n",
       "    <tr>\n",
       "      <th>32559</th>\n",
       "      <td>22</td>\n",
       "      <td>HS-grad</td>\n",
       "      <td>9</td>\n",
       "      <td>Never-married</td>\n",
       "      <td>Own-child</td>\n",
       "      <td>White</td>\n",
       "      <td>Male</td>\n",
       "      <td>0</td>\n",
       "      <td>0</td>\n",
       "      <td>20</td>\n",
       "      <td>0</td>\n",
       "    </tr>\n",
       "    <tr>\n",
       "      <th>32560</th>\n",
       "      <td>52</td>\n",
       "      <td>HS-grad</td>\n",
       "      <td>9</td>\n",
       "      <td>Married-civ-spouse</td>\n",
       "      <td>Wife</td>\n",
       "      <td>White</td>\n",
       "      <td>Female</td>\n",
       "      <td>15024</td>\n",
       "      <td>0</td>\n",
       "      <td>40</td>\n",
       "      <td>1</td>\n",
       "    </tr>\n",
       "  </tbody>\n",
       "</table>\n",
       "<p>32561 rows × 11 columns</p>\n",
       "</div>"
      ],
      "text/plain": [
       "       age   education  education-num      marital-status   relationship  \\\n",
       "0       39   Bachelors             13       Never-married  Not-in-family   \n",
       "1       50   Bachelors             13  Married-civ-spouse        Husband   \n",
       "2       38     HS-grad              9            Divorced  Not-in-family   \n",
       "3       53        11th              7  Married-civ-spouse        Husband   \n",
       "4       28   Bachelors             13  Married-civ-spouse           Wife   \n",
       "...    ...         ...            ...                 ...            ...   \n",
       "32556   27  Assoc-acdm             12  Married-civ-spouse           Wife   \n",
       "32557   40     HS-grad              9  Married-civ-spouse        Husband   \n",
       "32558   58     HS-grad              9             Widowed      Unmarried   \n",
       "32559   22     HS-grad              9       Never-married      Own-child   \n",
       "32560   52     HS-grad              9  Married-civ-spouse           Wife   \n",
       "\n",
       "        race     sex  capital-gain  capital-loss  hours-per-week  income >50K  \n",
       "0      White    Male          2174             0              40            0  \n",
       "1      White    Male             0             0              13            0  \n",
       "2      White    Male             0             0              40            0  \n",
       "3      Black    Male             0             0              40            0  \n",
       "4      Black  Female             0             0              40            0  \n",
       "...      ...     ...           ...           ...             ...          ...  \n",
       "32556  White  Female             0             0              38            0  \n",
       "32557  White    Male             0             0              40            1  \n",
       "32558  White  Female             0             0              40            0  \n",
       "32559  White    Male             0             0              20            0  \n",
       "32560  White  Female         15024             0              40            1  \n",
       "\n",
       "[32561 rows x 11 columns]"
      ]
     },
     "execution_count": 76,
     "metadata": {},
     "output_type": "execute_result"
    }
   ],
   "source": [
    "data"
   ]
  },
  {
   "cell_type": "code",
   "execution_count": 77,
   "id": "9bd7dd79",
   "metadata": {},
   "outputs": [
    {
     "data": {
      "text/plain": [
       "age               0\n",
       "education         0\n",
       "education-num     0\n",
       "marital-status    0\n",
       "relationship      0\n",
       "race              0\n",
       "sex               0\n",
       "capital-gain      0\n",
       "capital-loss      0\n",
       "hours-per-week    0\n",
       "income >50K       0\n",
       "dtype: int64"
      ]
     },
     "execution_count": 77,
     "metadata": {},
     "output_type": "execute_result"
    }
   ],
   "source": [
    "data.isnull().sum()"
   ]
  },
  {
   "cell_type": "code",
   "execution_count": 78,
   "id": "0a53d7c0",
   "metadata": {},
   "outputs": [
    {
     "data": {
      "text/plain": [
       "<AxesSubplot:xlabel='education', ylabel='count'>"
      ]
     },
     "execution_count": 78,
     "metadata": {},
     "output_type": "execute_result"
    },
    {
     "data": {
      "image/png": "[encoded data removed]",
      "text/plain": [
       "<Figure size 1440x360 with 1 Axes>"
      ]
     },
     "metadata": {},
     "output_type": "display_data"
    }
   ],
   "source": [
    "plt.figure(figsize = (20, 5))\n",
    "sns.countplot(x = \"education\", data = data)"
   ]
  },
  {
   "cell_type": "code",
   "execution_count": 79,
   "id": "1549d57e",
   "metadata": {},
   "outputs": [
    {
     "data": {
      "text/plain": [
       "<AxesSubplot:xlabel='marital-status', ylabel='count'>"
      ]
     },
     "execution_count": 79,
     "metadata": {},
     "output_type": "execute_result"
    },
    {
     "data": {
      "image/png": "[encoded data removed]",
      "text/plain": [
       "<Figure size 1440x360 with 1 Axes>"
      ]
     },
     "metadata": {},
     "output_type": "display_data"
    }
   ],
   "source": [
    "plt.figure(figsize = (20, 5))\n",
    "sns.countplot(x = \"marital-status\", data = data)"
   ]
  },
  {
   "cell_type": "code",
   "execution_count": 80,
   "id": "141b3f02",
   "metadata": {},
   "outputs": [
    {
     "data": {
      "text/plain": [
       "<AxesSubplot:xlabel='relationship', ylabel='count'>"
      ]
     },
     "execution_count": 80,
     "metadata": {},
     "output_type": "execute_result"
    },
    {
     "data": {
      "image/png": "[encoded data removed]",
      "text/plain": [
       "<Figure size 1440x360 with 1 Axes>"
      ]
     },
     "metadata": {},
     "output_type": "display_data"
    }
   ],
   "source": [
    "plt.figure(figsize = (20, 5))\n",
    "sns.countplot(x = \"relationship\", data = data)"
   ]
  },
  {
   "cell_type": "code",
   "execution_count": 81,
   "id": "0d073cdb",
   "metadata": {},
   "outputs": [],
   "source": [
    "from sklearn.preprocessing import LabelEncoder, OneHotEncoder\n",
    "from sklearn.compose import ColumnTransformer"
   ]
  },
  {
   "cell_type": "code",
   "execution_count": 82,
   "id": "23982961",
   "metadata": {},
   "outputs": [],
   "source": [
    "le = LabelEncoder()"
   ]
  },
  {
   "cell_type": "code",
   "execution_count": 83,
   "id": "c7bd8c93",
   "metadata": {},
   "outputs": [],
   "source": [
    "data.iloc[:, [5]] = le.fit_transform(data.iloc[:, [5]].values.ravel())\n",
    "data.iloc[:, [6]] = le.fit_transform(data.iloc[:, [6]].values.ravel())"
   ]
  },
  {
   "cell_type": "code",
   "execution_count": 84,
   "id": "feb5a3cd",
   "metadata": {},
   "outputs": [
    {
     "data": {
      "text/html": [
       "<div>\n",
       "<style scoped>\n",
       "    .dataframe tbody tr th:only-of-type {\n",
       "        vertical-align: middle;\n",
       "    }\n",
       "\n",
       "    .dataframe tbody tr th {\n",
       "        vertical-align: top;\n",
       "    }\n",
       "\n",
       "    .dataframe thead th {\n",
       "        text-align: right;\n",
       "    }\n",
       "</style>\n",
       "<table border=\"1\" class=\"dataframe\">\n",
       "  <thead>\n",
       "    <tr style=\"text-align: right;\">\n",
       "      <th></th>\n",
       "      <th>age</th>\n",
       "      <th>education</th>\n",
       "      <th>education-num</th>\n",
       "      <th>marital-status</th>\n",
       "      <th>relationship</th>\n",
       "      <th>race</th>\n",
       "      <th>sex</th>\n",
       "      <th>capital-gain</th>\n",
       "      <th>capital-loss</th>\n",
       "      <th>hours-per-week</th>\n",
       "      <th>income &gt;50K</th>\n",
       "    </tr>\n",
       "  </thead>\n",
       "  <tbody>\n",
       "    <tr>\n",
       "      <th>0</th>\n",
       "      <td>39</td>\n",
       "      <td>Bachelors</td>\n",
       "      <td>13</td>\n",
       "      <td>Never-married</td>\n",
       "      <td>Not-in-family</td>\n",
       "      <td>4</td>\n",
       "      <td>1</td>\n",
       "      <td>2174</td>\n",
       "      <td>0</td>\n",
       "      <td>40</td>\n",
       "      <td>0</td>\n",
       "    </tr>\n",
       "    <tr>\n",
       "      <th>1</th>\n",
       "      <td>50</td>\n",
       "      <td>Bachelors</td>\n",
       "      <td>13</td>\n",
       "      <td>Married-civ-spouse</td>\n",
       "      <td>Husband</td>\n",
       "      <td>4</td>\n",
       "      <td>1</td>\n",
       "      <td>0</td>\n",
       "      <td>0</td>\n",
       "      <td>13</td>\n",
       "      <td>0</td>\n",
       "    </tr>\n",
       "    <tr>\n",
       "      <th>2</th>\n",
       "      <td>38</td>\n",
       "      <td>HS-grad</td>\n",
       "      <td>9</td>\n",
       "      <td>Divorced</td>\n",
       "      <td>Not-in-family</td>\n",
       "      <td>4</td>\n",
       "      <td>1</td>\n",
       "      <td>0</td>\n",
       "      <td>0</td>\n",
       "      <td>40</td>\n",
       "      <td>0</td>\n",
       "    </tr>\n",
       "    <tr>\n",
       "      <th>3</th>\n",
       "      <td>53</td>\n",
       "      <td>11th</td>\n",
       "      <td>7</td>\n",
       "      <td>Married-civ-spouse</td>\n",
       "      <td>Husband</td>\n",
       "      <td>2</td>\n",
       "      <td>1</td>\n",
       "      <td>0</td>\n",
       "      <td>0</td>\n",
       "      <td>40</td>\n",
       "      <td>0</td>\n",
       "    </tr>\n",
       "    <tr>\n",
       "      <th>4</th>\n",
       "      <td>28</td>\n",
       "      <td>Bachelors</td>\n",
       "      <td>13</td>\n",
       "      <td>Married-civ-spouse</td>\n",
       "      <td>Wife</td>\n",
       "      <td>2</td>\n",
       "      <td>0</td>\n",
       "      <td>0</td>\n",
       "      <td>0</td>\n",
       "      <td>40</td>\n",
       "      <td>0</td>\n",
       "    </tr>\n",
       "    <tr>\n",
       "      <th>...</th>\n",
       "      <td>...</td>\n",
       "      <td>...</td>\n",
       "      <td>...</td>\n",
       "      <td>...</td>\n",
       "      <td>...</td>\n",
       "      <td>...</td>\n",
       "      <td>...</td>\n",
       "      <td>...</td>\n",
       "      <td>...</td>\n",
       "      <td>...</td>\n",
       "      <td>...</td>\n",
       "    </tr>\n",
       "    <tr>\n",
       "      <th>32556</th>\n",
       "      <td>27</td>\n",
       "      <td>Assoc-acdm</td>\n",
       "      <td>12</td>\n",
       "      <td>Married-civ-spouse</td>\n",
       "      <td>Wife</td>\n",
       "      <td>4</td>\n",
       "      <td>0</td>\n",
       "      <td>0</td>\n",
       "      <td>0</td>\n",
       "      <td>38</td>\n",
       "      <td>0</td>\n",
       "    </tr>\n",
       "    <tr>\n",
       "      <th>32557</th>\n",
       "      <td>40</td>\n",
       "      <td>HS-grad</td>\n",
       "      <td>9</td>\n",
       "      <td>Married-civ-spouse</td>\n",
       "      <td>Husband</td>\n",
       "      <td>4</td>\n",
       "      <td>1</td>\n",
       "      <td>0</td>\n",
       "      <td>0</td>\n",
       "      <td>40</td>\n",
       "      <td>1</td>\n",
       "    </tr>\n",
       "    <tr>\n",
       "      <th>32558</th>\n",
       "      <td>58</td>\n",
       "      <td>HS-grad</td>\n",
       "      <td>9</td>\n",
       "      <td>Widowed</td>\n",
       "      <td>Unmarried</td>\n",
       "      <td>4</td>\n",
       "      <td>0</td>\n",
       "      <td>0</td>\n",
       "      <td>0</td>\n",
       "      <td>40</td>\n",
       "      <td>0</td>\n",
       "    </tr>\n",
       "    <tr>\n",
       "      <th>32559</th>\n",
       "      <td>22</td>\n",
       "      <td>HS-grad</td>\n",
       "      <td>9</td>\n",
       "      <td>Never-married</td>\n",
       "      <td>Own-child</td>\n",
       "      <td>4</td>\n",
       "      <td>1</td>\n",
       "      <td>0</td>\n",
       "      <td>0</td>\n",
       "      <td>20</td>\n",
       "      <td>0</td>\n",
       "    </tr>\n",
       "    <tr>\n",
       "      <th>32560</th>\n",
       "      <td>52</td>\n",
       "      <td>HS-grad</td>\n",
       "      <td>9</td>\n",
       "      <td>Married-civ-spouse</td>\n",
       "      <td>Wife</td>\n",
       "      <td>4</td>\n",
       "      <td>0</td>\n",
       "      <td>15024</td>\n",
       "      <td>0</td>\n",
       "      <td>40</td>\n",
       "      <td>1</td>\n",
       "    </tr>\n",
       "  </tbody>\n",
       "</table>\n",
       "<p>32561 rows × 11 columns</p>\n",
       "</div>"
      ],
      "text/plain": [
       "       age   education  education-num      marital-status   relationship  \\\n",
       "0       39   Bachelors             13       Never-married  Not-in-family   \n",
       "1       50   Bachelors             13  Married-civ-spouse        Husband   \n",
       "2       38     HS-grad              9            Divorced  Not-in-family   \n",
       "3       53        11th              7  Married-civ-spouse        Husband   \n",
       "4       28   Bachelors             13  Married-civ-spouse           Wife   \n",
       "...    ...         ...            ...                 ...            ...   \n",
       "32556   27  Assoc-acdm             12  Married-civ-spouse           Wife   \n",
       "32557   40     HS-grad              9  Married-civ-spouse        Husband   \n",
       "32558   58     HS-grad              9             Widowed      Unmarried   \n",
       "32559   22     HS-grad              9       Never-married      Own-child   \n",
       "32560   52     HS-grad              9  Married-civ-spouse           Wife   \n",
       "\n",
       "       race  sex  capital-gain  capital-loss  hours-per-week  income >50K  \n",
       "0         4    1          2174             0              40            0  \n",
       "1         4    1             0             0              13            0  \n",
       "2         4    1             0             0              40            0  \n",
       "3         2    1             0             0              40            0  \n",
       "4         2    0             0             0              40            0  \n",
       "...     ...  ...           ...           ...             ...          ...  \n",
       "32556     4    0             0             0              38            0  \n",
       "32557     4    1             0             0              40            1  \n",
       "32558     4    0             0             0              40            0  \n",
       "32559     4    1             0             0              20            0  \n",
       "32560     4    0         15024             0              40            1  \n",
       "\n",
       "[32561 rows x 11 columns]"
      ]
     },
     "execution_count": 84,
     "metadata": {},
     "output_type": "execute_result"
    }
   ],
   "source": [
    "data"
   ]
  },
  {
   "cell_type": "code",
   "execution_count": 85,
   "id": "d1e02f08",
   "metadata": {},
   "outputs": [],
   "source": [
    "data = data[:].values"
   ]
  },
  {
   "cell_type": "code",
   "execution_count": 86,
   "id": "f652dbc9",
   "metadata": {},
   "outputs": [],
   "source": [
    "data = pd.DataFrame(data)"
   ]
  },
  {
   "cell_type": "code",
   "execution_count": 87,
   "id": "a69ccdcb",
   "metadata": {},
   "outputs": [
    {
     "data": {
      "text/html": [
       "<div>\n",
       "<style scoped>\n",
       "    .dataframe tbody tr th:only-of-type {\n",
       "        vertical-align: middle;\n",
       "    }\n",
       "\n",
       "    .dataframe tbody tr th {\n",
       "        vertical-align: top;\n",
       "    }\n",
       "\n",
       "    .dataframe thead th {\n",
       "        text-align: right;\n",
       "    }\n",
       "</style>\n",
       "<table border=\"1\" class=\"dataframe\">\n",
       "  <thead>\n",
       "    <tr style=\"text-align: right;\">\n",
       "      <th></th>\n",
       "      <th>0</th>\n",
       "      <th>1</th>\n",
       "      <th>2</th>\n",
       "      <th>3</th>\n",
       "      <th>4</th>\n",
       "      <th>5</th>\n",
       "      <th>6</th>\n",
       "      <th>7</th>\n",
       "      <th>8</th>\n",
       "      <th>9</th>\n",
       "      <th>10</th>\n",
       "    </tr>\n",
       "  </thead>\n",
       "  <tbody>\n",
       "    <tr>\n",
       "      <th>0</th>\n",
       "      <td>39</td>\n",
       "      <td>Bachelors</td>\n",
       "      <td>13</td>\n",
       "      <td>Never-married</td>\n",
       "      <td>Not-in-family</td>\n",
       "      <td>4</td>\n",
       "      <td>1</td>\n",
       "      <td>2174</td>\n",
       "      <td>0</td>\n",
       "      <td>40</td>\n",
       "      <td>0</td>\n",
       "    </tr>\n",
       "    <tr>\n",
       "      <th>1</th>\n",
       "      <td>50</td>\n",
       "      <td>Bachelors</td>\n",
       "      <td>13</td>\n",
       "      <td>Married-civ-spouse</td>\n",
       "      <td>Husband</td>\n",
       "      <td>4</td>\n",
       "      <td>1</td>\n",
       "      <td>0</td>\n",
       "      <td>0</td>\n",
       "      <td>13</td>\n",
       "      <td>0</td>\n",
       "    </tr>\n",
       "    <tr>\n",
       "      <th>2</th>\n",
       "      <td>38</td>\n",
       "      <td>HS-grad</td>\n",
       "      <td>9</td>\n",
       "      <td>Divorced</td>\n",
       "      <td>Not-in-family</td>\n",
       "      <td>4</td>\n",
       "      <td>1</td>\n",
       "      <td>0</td>\n",
       "      <td>0</td>\n",
       "      <td>40</td>\n",
       "      <td>0</td>\n",
       "    </tr>\n",
       "    <tr>\n",
       "      <th>3</th>\n",
       "      <td>53</td>\n",
       "      <td>11th</td>\n",
       "      <td>7</td>\n",
       "      <td>Married-civ-spouse</td>\n",
       "      <td>Husband</td>\n",
       "      <td>2</td>\n",
       "      <td>1</td>\n",
       "      <td>0</td>\n",
       "      <td>0</td>\n",
       "      <td>40</td>\n",
       "      <td>0</td>\n",
       "    </tr>\n",
       "    <tr>\n",
       "      <th>4</th>\n",
       "      <td>28</td>\n",
       "      <td>Bachelors</td>\n",
       "      <td>13</td>\n",
       "      <td>Married-civ-spouse</td>\n",
       "      <td>Wife</td>\n",
       "      <td>2</td>\n",
       "      <td>0</td>\n",
       "      <td>0</td>\n",
       "      <td>0</td>\n",
       "      <td>40</td>\n",
       "      <td>0</td>\n",
       "    </tr>\n",
       "    <tr>\n",
       "      <th>...</th>\n",
       "      <td>...</td>\n",
       "      <td>...</td>\n",
       "      <td>...</td>\n",
       "      <td>...</td>\n",
       "      <td>...</td>\n",
       "      <td>...</td>\n",
       "      <td>...</td>\n",
       "      <td>...</td>\n",
       "      <td>...</td>\n",
       "      <td>...</td>\n",
       "      <td>...</td>\n",
       "    </tr>\n",
       "    <tr>\n",
       "      <th>32556</th>\n",
       "      <td>27</td>\n",
       "      <td>Assoc-acdm</td>\n",
       "      <td>12</td>\n",
       "      <td>Married-civ-spouse</td>\n",
       "      <td>Wife</td>\n",
       "      <td>4</td>\n",
       "      <td>0</td>\n",
       "      <td>0</td>\n",
       "      <td>0</td>\n",
       "      <td>38</td>\n",
       "      <td>0</td>\n",
       "    </tr>\n",
       "    <tr>\n",
       "      <th>32557</th>\n",
       "      <td>40</td>\n",
       "      <td>HS-grad</td>\n",
       "      <td>9</td>\n",
       "      <td>Married-civ-spouse</td>\n",
       "      <td>Husband</td>\n",
       "      <td>4</td>\n",
       "      <td>1</td>\n",
       "      <td>0</td>\n",
       "      <td>0</td>\n",
       "      <td>40</td>\n",
       "      <td>1</td>\n",
       "    </tr>\n",
       "    <tr>\n",
       "      <th>32558</th>\n",
       "      <td>58</td>\n",
       "      <td>HS-grad</td>\n",
       "      <td>9</td>\n",
       "      <td>Widowed</td>\n",
       "      <td>Unmarried</td>\n",
       "      <td>4</td>\n",
       "      <td>0</td>\n",
       "      <td>0</td>\n",
       "      <td>0</td>\n",
       "      <td>40</td>\n",
       "      <td>0</td>\n",
       "    </tr>\n",
       "    <tr>\n",
       "      <th>32559</th>\n",
       "      <td>22</td>\n",
       "      <td>HS-grad</td>\n",
       "      <td>9</td>\n",
       "      <td>Never-married</td>\n",
       "      <td>Own-child</td>\n",
       "      <td>4</td>\n",
       "      <td>1</td>\n",
       "      <td>0</td>\n",
       "      <td>0</td>\n",
       "      <td>20</td>\n",
       "      <td>0</td>\n",
       "    </tr>\n",
       "    <tr>\n",
       "      <th>32560</th>\n",
       "      <td>52</td>\n",
       "      <td>HS-grad</td>\n",
       "      <td>9</td>\n",
       "      <td>Married-civ-spouse</td>\n",
       "      <td>Wife</td>\n",
       "      <td>4</td>\n",
       "      <td>0</td>\n",
       "      <td>15024</td>\n",
       "      <td>0</td>\n",
       "      <td>40</td>\n",
       "      <td>1</td>\n",
       "    </tr>\n",
       "  </tbody>\n",
       "</table>\n",
       "<p>32561 rows × 11 columns</p>\n",
       "</div>"
      ],
      "text/plain": [
       "       0           1   2                   3              4  5  6      7  8   \\\n",
       "0      39   Bachelors  13       Never-married  Not-in-family  4  1   2174  0   \n",
       "1      50   Bachelors  13  Married-civ-spouse        Husband  4  1      0  0   \n",
       "2      38     HS-grad   9            Divorced  Not-in-family  4  1      0  0   \n",
       "3      53        11th   7  Married-civ-spouse        Husband  2  1      0  0   \n",
       "4      28   Bachelors  13  Married-civ-spouse           Wife  2  0      0  0   \n",
       "...    ..         ...  ..                 ...            ... .. ..    ... ..   \n",
       "32556  27  Assoc-acdm  12  Married-civ-spouse           Wife  4  0      0  0   \n",
       "32557  40     HS-grad   9  Married-civ-spouse        Husband  4  1      0  0   \n",
       "32558  58     HS-grad   9             Widowed      Unmarried  4  0      0  0   \n",
       "32559  22     HS-grad   9       Never-married      Own-child  4  1      0  0   \n",
       "32560  52     HS-grad   9  Married-civ-spouse           Wife  4  0  15024  0   \n",
       "\n",
       "       9  10  \n",
       "0      40  0  \n",
       "1      13  0  \n",
       "2      40  0  \n",
       "3      40  0  \n",
       "4      40  0  \n",
       "...    .. ..  \n",
       "32556  38  0  \n",
       "32557  40  1  \n",
       "32558  40  0  \n",
       "32559  20  0  \n",
       "32560  40  1  \n",
       "\n",
       "[32561 rows x 11 columns]"
      ]
     },
     "execution_count": 87,
     "metadata": {},
     "output_type": "execute_result"
    }
   ],
   "source": [
    "data"
   ]
  },
  {
   "cell_type": "code",
   "execution_count": 88,
   "id": "d7628b26",
   "metadata": {},
   "outputs": [
    {
     "data": {
      "text/plain": [
       "0     0\n",
       "1     0\n",
       "2     0\n",
       "3     0\n",
       "4     0\n",
       "5     0\n",
       "6     0\n",
       "7     0\n",
       "8     0\n",
       "9     0\n",
       "10    0\n",
       "dtype: int64"
      ]
     },
     "execution_count": 88,
     "metadata": {},
     "output_type": "execute_result"
    }
   ],
   "source": [
    "data.isnull().sum()"
   ]
  },
  {
   "cell_type": "code",
   "execution_count": 89,
   "id": "2f16f174",
   "metadata": {},
   "outputs": [],
   "source": [
    "ohe = OneHotEncoder()"
   ]
  },
  {
   "cell_type": "code",
   "execution_count": 90,
   "id": "185ea549",
   "metadata": {},
   "outputs": [],
   "source": [
    "ct = ColumnTransformer([(\"data\", ohe, [1, 3, 4])], remainder = \"passthrough\")"
   ]
  },
  {
   "cell_type": "code",
   "execution_count": 91,
   "id": "4ecc23d8",
   "metadata": {},
   "outputs": [],
   "source": [
    "data = ct.fit_transform(data)"
   ]
  },
  {
   "cell_type": "code",
   "execution_count": 92,
   "id": "e316b3a3",
   "metadata": {},
   "outputs": [],
   "source": [
    "data = pd.DataFrame(data.toarray())"
   ]
  },
  {
   "cell_type": "code",
   "execution_count": 98,
   "id": "af27a63c",
   "metadata": {},
   "outputs": [
    {
     "data": {
      "text/html": [
       "<div>\n",
       "<style scoped>\n",
       "    .dataframe tbody tr th:only-of-type {\n",
       "        vertical-align: middle;\n",
       "    }\n",
       "\n",
       "    .dataframe tbody tr th {\n",
       "        vertical-align: top;\n",
       "    }\n",
       "\n",
       "    .dataframe thead th {\n",
       "        text-align: right;\n",
       "    }\n",
       "</style>\n",
       "<table border=\"1\" class=\"dataframe\">\n",
       "  <thead>\n",
       "    <tr style=\"text-align: right;\">\n",
       "      <th></th>\n",
       "      <th>0</th>\n",
       "      <th>1</th>\n",
       "      <th>2</th>\n",
       "      <th>3</th>\n",
       "      <th>4</th>\n",
       "      <th>5</th>\n",
       "      <th>6</th>\n",
       "      <th>7</th>\n",
       "      <th>8</th>\n",
       "      <th>9</th>\n",
       "      <th>...</th>\n",
       "      <th>27</th>\n",
       "      <th>28</th>\n",
       "      <th>29</th>\n",
       "      <th>30</th>\n",
       "      <th>31</th>\n",
       "      <th>32</th>\n",
       "      <th>33</th>\n",
       "      <th>34</th>\n",
       "      <th>35</th>\n",
       "      <th>36</th>\n",
       "    </tr>\n",
       "  </thead>\n",
       "  <tbody>\n",
       "    <tr>\n",
       "      <th>0</th>\n",
       "      <td>0.0</td>\n",
       "      <td>0.0</td>\n",
       "      <td>0.0</td>\n",
       "      <td>0.0</td>\n",
       "      <td>0.0</td>\n",
       "      <td>0.0</td>\n",
       "      <td>0.0</td>\n",
       "      <td>0.0</td>\n",
       "      <td>0.0</td>\n",
       "      <td>1.0</td>\n",
       "      <td>...</td>\n",
       "      <td>0.0</td>\n",
       "      <td>0.0</td>\n",
       "      <td>39.0</td>\n",
       "      <td>13.0</td>\n",
       "      <td>4.0</td>\n",
       "      <td>1.0</td>\n",
       "      <td>2174.0</td>\n",
       "      <td>0.0</td>\n",
       "      <td>40.0</td>\n",
       "      <td>0.0</td>\n",
       "    </tr>\n",
       "    <tr>\n",
       "      <th>1</th>\n",
       "      <td>0.0</td>\n",
       "      <td>0.0</td>\n",
       "      <td>0.0</td>\n",
       "      <td>0.0</td>\n",
       "      <td>0.0</td>\n",
       "      <td>0.0</td>\n",
       "      <td>0.0</td>\n",
       "      <td>0.0</td>\n",
       "      <td>0.0</td>\n",
       "      <td>1.0</td>\n",
       "      <td>...</td>\n",
       "      <td>0.0</td>\n",
       "      <td>0.0</td>\n",
       "      <td>50.0</td>\n",
       "      <td>13.0</td>\n",
       "      <td>4.0</td>\n",
       "      <td>1.0</td>\n",
       "      <td>0.0</td>\n",
       "      <td>0.0</td>\n",
       "      <td>13.0</td>\n",
       "      <td>0.0</td>\n",
       "    </tr>\n",
       "    <tr>\n",
       "      <th>2</th>\n",
       "      <td>0.0</td>\n",
       "      <td>0.0</td>\n",
       "      <td>0.0</td>\n",
       "      <td>0.0</td>\n",
       "      <td>0.0</td>\n",
       "      <td>0.0</td>\n",
       "      <td>0.0</td>\n",
       "      <td>0.0</td>\n",
       "      <td>0.0</td>\n",
       "      <td>0.0</td>\n",
       "      <td>...</td>\n",
       "      <td>0.0</td>\n",
       "      <td>0.0</td>\n",
       "      <td>38.0</td>\n",
       "      <td>9.0</td>\n",
       "      <td>4.0</td>\n",
       "      <td>1.0</td>\n",
       "      <td>0.0</td>\n",
       "      <td>0.0</td>\n",
       "      <td>40.0</td>\n",
       "      <td>0.0</td>\n",
       "    </tr>\n",
       "    <tr>\n",
       "      <th>3</th>\n",
       "      <td>0.0</td>\n",
       "      <td>1.0</td>\n",
       "      <td>0.0</td>\n",
       "      <td>0.0</td>\n",
       "      <td>0.0</td>\n",
       "      <td>0.0</td>\n",
       "      <td>0.0</td>\n",
       "      <td>0.0</td>\n",
       "      <td>0.0</td>\n",
       "      <td>0.0</td>\n",
       "      <td>...</td>\n",
       "      <td>0.0</td>\n",
       "      <td>0.0</td>\n",
       "      <td>53.0</td>\n",
       "      <td>7.0</td>\n",
       "      <td>2.0</td>\n",
       "      <td>1.0</td>\n",
       "      <td>0.0</td>\n",
       "      <td>0.0</td>\n",
       "      <td>40.0</td>\n",
       "      <td>0.0</td>\n",
       "    </tr>\n",
       "    <tr>\n",
       "      <th>4</th>\n",
       "      <td>0.0</td>\n",
       "      <td>0.0</td>\n",
       "      <td>0.0</td>\n",
       "      <td>0.0</td>\n",
       "      <td>0.0</td>\n",
       "      <td>0.0</td>\n",
       "      <td>0.0</td>\n",
       "      <td>0.0</td>\n",
       "      <td>0.0</td>\n",
       "      <td>1.0</td>\n",
       "      <td>...</td>\n",
       "      <td>0.0</td>\n",
       "      <td>1.0</td>\n",
       "      <td>28.0</td>\n",
       "      <td>13.0</td>\n",
       "      <td>2.0</td>\n",
       "      <td>0.0</td>\n",
       "      <td>0.0</td>\n",
       "      <td>0.0</td>\n",
       "      <td>40.0</td>\n",
       "      <td>0.0</td>\n",
       "    </tr>\n",
       "    <tr>\n",
       "      <th>...</th>\n",
       "      <td>...</td>\n",
       "      <td>...</td>\n",
       "      <td>...</td>\n",
       "      <td>...</td>\n",
       "      <td>...</td>\n",
       "      <td>...</td>\n",
       "      <td>...</td>\n",
       "      <td>...</td>\n",
       "      <td>...</td>\n",
       "      <td>...</td>\n",
       "      <td>...</td>\n",
       "      <td>...</td>\n",
       "      <td>...</td>\n",
       "      <td>...</td>\n",
       "      <td>...</td>\n",
       "      <td>...</td>\n",
       "      <td>...</td>\n",
       "      <td>...</td>\n",
       "      <td>...</td>\n",
       "      <td>...</td>\n",
       "      <td>...</td>\n",
       "    </tr>\n",
       "    <tr>\n",
       "      <th>32556</th>\n",
       "      <td>0.0</td>\n",
       "      <td>0.0</td>\n",
       "      <td>0.0</td>\n",
       "      <td>0.0</td>\n",
       "      <td>0.0</td>\n",
       "      <td>0.0</td>\n",
       "      <td>0.0</td>\n",
       "      <td>1.0</td>\n",
       "      <td>0.0</td>\n",
       "      <td>0.0</td>\n",
       "      <td>...</td>\n",
       "      <td>0.0</td>\n",
       "      <td>1.0</td>\n",
       "      <td>27.0</td>\n",
       "      <td>12.0</td>\n",
       "      <td>4.0</td>\n",
       "      <td>0.0</td>\n",
       "      <td>0.0</td>\n",
       "      <td>0.0</td>\n",
       "      <td>38.0</td>\n",
       "      <td>0.0</td>\n",
       "    </tr>\n",
       "    <tr>\n",
       "      <th>32557</th>\n",
       "      <td>0.0</td>\n",
       "      <td>0.0</td>\n",
       "      <td>0.0</td>\n",
       "      <td>0.0</td>\n",
       "      <td>0.0</td>\n",
       "      <td>0.0</td>\n",
       "      <td>0.0</td>\n",
       "      <td>0.0</td>\n",
       "      <td>0.0</td>\n",
       "      <td>0.0</td>\n",
       "      <td>...</td>\n",
       "      <td>0.0</td>\n",
       "      <td>0.0</td>\n",
       "      <td>40.0</td>\n",
       "      <td>9.0</td>\n",
       "      <td>4.0</td>\n",
       "      <td>1.0</td>\n",
       "      <td>0.0</td>\n",
       "      <td>0.0</td>\n",
       "      <td>40.0</td>\n",
       "      <td>1.0</td>\n",
       "    </tr>\n",
       "    <tr>\n",
       "      <th>32558</th>\n",
       "      <td>0.0</td>\n",
       "      <td>0.0</td>\n",
       "      <td>0.0</td>\n",
       "      <td>0.0</td>\n",
       "      <td>0.0</td>\n",
       "      <td>0.0</td>\n",
       "      <td>0.0</td>\n",
       "      <td>0.0</td>\n",
       "      <td>0.0</td>\n",
       "      <td>0.0</td>\n",
       "      <td>...</td>\n",
       "      <td>1.0</td>\n",
       "      <td>0.0</td>\n",
       "      <td>58.0</td>\n",
       "      <td>9.0</td>\n",
       "      <td>4.0</td>\n",
       "      <td>0.0</td>\n",
       "      <td>0.0</td>\n",
       "      <td>0.0</td>\n",
       "      <td>40.0</td>\n",
       "      <td>0.0</td>\n",
       "    </tr>\n",
       "    <tr>\n",
       "      <th>32559</th>\n",
       "      <td>0.0</td>\n",
       "      <td>0.0</td>\n",
       "      <td>0.0</td>\n",
       "      <td>0.0</td>\n",
       "      <td>0.0</td>\n",
       "      <td>0.0</td>\n",
       "      <td>0.0</td>\n",
       "      <td>0.0</td>\n",
       "      <td>0.0</td>\n",
       "      <td>0.0</td>\n",
       "      <td>...</td>\n",
       "      <td>0.0</td>\n",
       "      <td>0.0</td>\n",
       "      <td>22.0</td>\n",
       "      <td>9.0</td>\n",
       "      <td>4.0</td>\n",
       "      <td>1.0</td>\n",
       "      <td>0.0</td>\n",
       "      <td>0.0</td>\n",
       "      <td>20.0</td>\n",
       "      <td>0.0</td>\n",
       "    </tr>\n",
       "    <tr>\n",
       "      <th>32560</th>\n",
       "      <td>0.0</td>\n",
       "      <td>0.0</td>\n",
       "      <td>0.0</td>\n",
       "      <td>0.0</td>\n",
       "      <td>0.0</td>\n",
       "      <td>0.0</td>\n",
       "      <td>0.0</td>\n",
       "      <td>0.0</td>\n",
       "      <td>0.0</td>\n",
       "      <td>0.0</td>\n",
       "      <td>...</td>\n",
       "      <td>0.0</td>\n",
       "      <td>1.0</td>\n",
       "      <td>52.0</td>\n",
       "      <td>9.0</td>\n",
       "      <td>4.0</td>\n",
       "      <td>0.0</td>\n",
       "      <td>15024.0</td>\n",
       "      <td>0.0</td>\n",
       "      <td>40.0</td>\n",
       "      <td>1.0</td>\n",
       "    </tr>\n",
       "  </tbody>\n",
       "</table>\n",
       "<p>32561 rows × 37 columns</p>\n",
       "</div>"
      ],
      "text/plain": [
       "        0    1    2    3    4    5    6    7    8    9   ...   27   28    29  \\\n",
       "0      0.0  0.0  0.0  0.0  0.0  0.0  0.0  0.0  0.0  1.0  ...  0.0  0.0  39.0   \n",
       "1      0.0  0.0  0.0  0.0  0.0  0.0  0.0  0.0  0.0  1.0  ...  0.0  0.0  50.0   \n",
       "2      0.0  0.0  0.0  0.0  0.0  0.0  0.0  0.0  0.0  0.0  ...  0.0  0.0  38.0   \n",
       "3      0.0  1.0  0.0  0.0  0.0  0.0  0.0  0.0  0.0  0.0  ...  0.0  0.0  53.0   \n",
       "4      0.0  0.0  0.0  0.0  0.0  0.0  0.0  0.0  0.0  1.0  ...  0.0  1.0  28.0   \n",
       "...    ...  ...  ...  ...  ...  ...  ...  ...  ...  ...  ...  ...  ...   ...   \n",
       "32556  0.0  0.0  0.0  0.0  0.0  0.0  0.0  1.0  0.0  0.0  ...  0.0  1.0  27.0   \n",
       "32557  0.0  0.0  0.0  0.0  0.0  0.0  0.0  0.0  0.0  0.0  ...  0.0  0.0  40.0   \n",
       "32558  0.0  0.0  0.0  0.0  0.0  0.0  0.0  0.0  0.0  0.0  ...  1.0  0.0  58.0   \n",
       "32559  0.0  0.0  0.0  0.0  0.0  0.0  0.0  0.0  0.0  0.0  ...  0.0  0.0  22.0   \n",
       "32560  0.0  0.0  0.0  0.0  0.0  0.0  0.0  0.0  0.0  0.0  ...  0.0  1.0  52.0   \n",
       "\n",
       "         30   31   32       33   34    35   36  \n",
       "0      13.0  4.0  1.0   2174.0  0.0  40.0  0.0  \n",
       "1      13.0  4.0  1.0      0.0  0.0  13.0  0.0  \n",
       "2       9.0  4.0  1.0      0.0  0.0  40.0  0.0  \n",
       "3       7.0  2.0  1.0      0.0  0.0  40.0  0.0  \n",
       "4      13.0  2.0  0.0      0.0  0.0  40.0  0.0  \n",
       "...     ...  ...  ...      ...  ...   ...  ...  \n",
       "32556  12.0  4.0  0.0      0.0  0.0  38.0  0.0  \n",
       "32557   9.0  4.0  1.0      0.0  0.0  40.0  1.0  \n",
       "32558   9.0  4.0  0.0      0.0  0.0  40.0  0.0  \n",
       "32559   9.0  4.0  1.0      0.0  0.0  20.0  0.0  \n",
       "32560   9.0  4.0  0.0  15024.0  0.0  40.0  1.0  \n",
       "\n",
       "[32561 rows x 37 columns]"
      ]
     },
     "execution_count": 98,
     "metadata": {},
     "output_type": "execute_result"
    }
   ],
   "source": [
    "data"
   ]
  },
  {
   "cell_type": "code",
   "execution_count": 162,
   "id": "b6344559",
   "metadata": {},
   "outputs": [],
   "source": [
    "from sklearn.preprocessing import MaxAbsScaler"
   ]
  },
  {
   "cell_type": "code",
   "execution_count": 163,
   "id": "0ff681df",
   "metadata": {},
   "outputs": [],
   "source": [
    "mas = MaxAbsScaler()"
   ]
  },
  {
   "cell_type": "code",
   "execution_count": 164,
   "id": "9eaeb930",
   "metadata": {},
   "outputs": [],
   "source": [
    "data.iloc[:, :-1] = mas.fit_transform(data.iloc[:, :-1])"
   ]
  },
  {
   "cell_type": "code",
   "execution_count": 165,
   "id": "8296c1e1",
   "metadata": {},
   "outputs": [
    {
     "data": {
      "text/html": [
       "<div>\n",
       "<style scoped>\n",
       "    .dataframe tbody tr th:only-of-type {\n",
       "        vertical-align: middle;\n",
       "    }\n",
       "\n",
       "    .dataframe tbody tr th {\n",
       "        vertical-align: top;\n",
       "    }\n",
       "\n",
       "    .dataframe thead th {\n",
       "        text-align: right;\n",
       "    }\n",
       "</style>\n",
       "<table border=\"1\" class=\"dataframe\">\n",
       "  <thead>\n",
       "    <tr style=\"text-align: right;\">\n",
       "      <th></th>\n",
       "      <th>0</th>\n",
       "      <th>1</th>\n",
       "      <th>2</th>\n",
       "      <th>3</th>\n",
       "      <th>4</th>\n",
       "      <th>5</th>\n",
       "      <th>6</th>\n",
       "      <th>7</th>\n",
       "      <th>8</th>\n",
       "      <th>9</th>\n",
       "      <th>...</th>\n",
       "      <th>27</th>\n",
       "      <th>28</th>\n",
       "      <th>29</th>\n",
       "      <th>30</th>\n",
       "      <th>31</th>\n",
       "      <th>32</th>\n",
       "      <th>33</th>\n",
       "      <th>34</th>\n",
       "      <th>35</th>\n",
       "      <th>36</th>\n",
       "    </tr>\n",
       "  </thead>\n",
       "  <tbody>\n",
       "    <tr>\n",
       "      <th>0</th>\n",
       "      <td>0.0</td>\n",
       "      <td>0.0</td>\n",
       "      <td>0.0</td>\n",
       "      <td>0.0</td>\n",
       "      <td>0.0</td>\n",
       "      <td>0.0</td>\n",
       "      <td>0.0</td>\n",
       "      <td>0.0</td>\n",
       "      <td>0.0</td>\n",
       "      <td>1.0</td>\n",
       "      <td>...</td>\n",
       "      <td>0.0</td>\n",
       "      <td>0.0</td>\n",
       "      <td>0.550551</td>\n",
       "      <td>0.834334</td>\n",
       "      <td>1.00000</td>\n",
       "      <td>1.0</td>\n",
       "      <td>0.922923</td>\n",
       "      <td>0.0</td>\n",
       "      <td>0.472472</td>\n",
       "      <td>0.0</td>\n",
       "    </tr>\n",
       "    <tr>\n",
       "      <th>1</th>\n",
       "      <td>0.0</td>\n",
       "      <td>0.0</td>\n",
       "      <td>0.0</td>\n",
       "      <td>0.0</td>\n",
       "      <td>0.0</td>\n",
       "      <td>0.0</td>\n",
       "      <td>0.0</td>\n",
       "      <td>0.0</td>\n",
       "      <td>0.0</td>\n",
       "      <td>1.0</td>\n",
       "      <td>...</td>\n",
       "      <td>0.0</td>\n",
       "      <td>0.0</td>\n",
       "      <td>0.792292</td>\n",
       "      <td>0.834334</td>\n",
       "      <td>1.00000</td>\n",
       "      <td>1.0</td>\n",
       "      <td>0.000000</td>\n",
       "      <td>0.0</td>\n",
       "      <td>0.028886</td>\n",
       "      <td>0.0</td>\n",
       "    </tr>\n",
       "    <tr>\n",
       "      <th>2</th>\n",
       "      <td>0.0</td>\n",
       "      <td>0.0</td>\n",
       "      <td>0.0</td>\n",
       "      <td>0.0</td>\n",
       "      <td>0.0</td>\n",
       "      <td>0.0</td>\n",
       "      <td>0.0</td>\n",
       "      <td>0.0</td>\n",
       "      <td>0.0</td>\n",
       "      <td>0.0</td>\n",
       "      <td>...</td>\n",
       "      <td>0.0</td>\n",
       "      <td>0.0</td>\n",
       "      <td>0.525025</td>\n",
       "      <td>0.291792</td>\n",
       "      <td>1.00000</td>\n",
       "      <td>1.0</td>\n",
       "      <td>0.000000</td>\n",
       "      <td>0.0</td>\n",
       "      <td>0.472472</td>\n",
       "      <td>0.0</td>\n",
       "    </tr>\n",
       "    <tr>\n",
       "      <th>3</th>\n",
       "      <td>0.0</td>\n",
       "      <td>1.0</td>\n",
       "      <td>0.0</td>\n",
       "      <td>0.0</td>\n",
       "      <td>0.0</td>\n",
       "      <td>0.0</td>\n",
       "      <td>0.0</td>\n",
       "      <td>0.0</td>\n",
       "      <td>0.0</td>\n",
       "      <td>0.0</td>\n",
       "      <td>...</td>\n",
       "      <td>0.0</td>\n",
       "      <td>0.0</td>\n",
       "      <td>0.841341</td>\n",
       "      <td>0.099600</td>\n",
       "      <td>0.08959</td>\n",
       "      <td>1.0</td>\n",
       "      <td>0.000000</td>\n",
       "      <td>0.0</td>\n",
       "      <td>0.472472</td>\n",
       "      <td>0.0</td>\n",
       "    </tr>\n",
       "    <tr>\n",
       "      <th>4</th>\n",
       "      <td>0.0</td>\n",
       "      <td>0.0</td>\n",
       "      <td>0.0</td>\n",
       "      <td>0.0</td>\n",
       "      <td>0.0</td>\n",
       "      <td>0.0</td>\n",
       "      <td>0.0</td>\n",
       "      <td>0.0</td>\n",
       "      <td>0.0</td>\n",
       "      <td>1.0</td>\n",
       "      <td>...</td>\n",
       "      <td>0.0</td>\n",
       "      <td>1.0</td>\n",
       "      <td>0.259760</td>\n",
       "      <td>0.834334</td>\n",
       "      <td>0.08959</td>\n",
       "      <td>0.0</td>\n",
       "      <td>0.000000</td>\n",
       "      <td>0.0</td>\n",
       "      <td>0.472472</td>\n",
       "      <td>0.0</td>\n",
       "    </tr>\n",
       "    <tr>\n",
       "      <th>...</th>\n",
       "      <td>...</td>\n",
       "      <td>...</td>\n",
       "      <td>...</td>\n",
       "      <td>...</td>\n",
       "      <td>...</td>\n",
       "      <td>...</td>\n",
       "      <td>...</td>\n",
       "      <td>...</td>\n",
       "      <td>...</td>\n",
       "      <td>...</td>\n",
       "      <td>...</td>\n",
       "      <td>...</td>\n",
       "      <td>...</td>\n",
       "      <td>...</td>\n",
       "      <td>...</td>\n",
       "      <td>...</td>\n",
       "      <td>...</td>\n",
       "      <td>...</td>\n",
       "      <td>...</td>\n",
       "      <td>...</td>\n",
       "      <td>...</td>\n",
       "    </tr>\n",
       "    <tr>\n",
       "      <th>32556</th>\n",
       "      <td>0.0</td>\n",
       "      <td>0.0</td>\n",
       "      <td>0.0</td>\n",
       "      <td>0.0</td>\n",
       "      <td>0.0</td>\n",
       "      <td>0.0</td>\n",
       "      <td>0.0</td>\n",
       "      <td>1.0</td>\n",
       "      <td>0.0</td>\n",
       "      <td>0.0</td>\n",
       "      <td>...</td>\n",
       "      <td>0.0</td>\n",
       "      <td>1.0</td>\n",
       "      <td>0.233734</td>\n",
       "      <td>0.735736</td>\n",
       "      <td>1.00000</td>\n",
       "      <td>0.0</td>\n",
       "      <td>0.000000</td>\n",
       "      <td>0.0</td>\n",
       "      <td>0.229730</td>\n",
       "      <td>0.0</td>\n",
       "    </tr>\n",
       "    <tr>\n",
       "      <th>32557</th>\n",
       "      <td>0.0</td>\n",
       "      <td>0.0</td>\n",
       "      <td>0.0</td>\n",
       "      <td>0.0</td>\n",
       "      <td>0.0</td>\n",
       "      <td>0.0</td>\n",
       "      <td>0.0</td>\n",
       "      <td>0.0</td>\n",
       "      <td>0.0</td>\n",
       "      <td>0.0</td>\n",
       "      <td>...</td>\n",
       "      <td>0.0</td>\n",
       "      <td>0.0</td>\n",
       "      <td>0.575075</td>\n",
       "      <td>0.291792</td>\n",
       "      <td>1.00000</td>\n",
       "      <td>1.0</td>\n",
       "      <td>0.000000</td>\n",
       "      <td>0.0</td>\n",
       "      <td>0.472472</td>\n",
       "      <td>1.0</td>\n",
       "    </tr>\n",
       "    <tr>\n",
       "      <th>32558</th>\n",
       "      <td>0.0</td>\n",
       "      <td>0.0</td>\n",
       "      <td>0.0</td>\n",
       "      <td>0.0</td>\n",
       "      <td>0.0</td>\n",
       "      <td>0.0</td>\n",
       "      <td>0.0</td>\n",
       "      <td>0.0</td>\n",
       "      <td>0.0</td>\n",
       "      <td>0.0</td>\n",
       "      <td>...</td>\n",
       "      <td>1.0</td>\n",
       "      <td>0.0</td>\n",
       "      <td>0.901902</td>\n",
       "      <td>0.291792</td>\n",
       "      <td>1.00000</td>\n",
       "      <td>0.0</td>\n",
       "      <td>0.000000</td>\n",
       "      <td>0.0</td>\n",
       "      <td>0.472472</td>\n",
       "      <td>0.0</td>\n",
       "    </tr>\n",
       "    <tr>\n",
       "      <th>32559</th>\n",
       "      <td>0.0</td>\n",
       "      <td>0.0</td>\n",
       "      <td>0.0</td>\n",
       "      <td>0.0</td>\n",
       "      <td>0.0</td>\n",
       "      <td>0.0</td>\n",
       "      <td>0.0</td>\n",
       "      <td>0.0</td>\n",
       "      <td>0.0</td>\n",
       "      <td>0.0</td>\n",
       "      <td>...</td>\n",
       "      <td>0.0</td>\n",
       "      <td>0.0</td>\n",
       "      <td>0.108108</td>\n",
       "      <td>0.291792</td>\n",
       "      <td>1.00000</td>\n",
       "      <td>1.0</td>\n",
       "      <td>0.000000</td>\n",
       "      <td>0.0</td>\n",
       "      <td>0.071071</td>\n",
       "      <td>0.0</td>\n",
       "    </tr>\n",
       "    <tr>\n",
       "      <th>32560</th>\n",
       "      <td>0.0</td>\n",
       "      <td>0.0</td>\n",
       "      <td>0.0</td>\n",
       "      <td>0.0</td>\n",
       "      <td>0.0</td>\n",
       "      <td>0.0</td>\n",
       "      <td>0.0</td>\n",
       "      <td>0.0</td>\n",
       "      <td>0.0</td>\n",
       "      <td>0.0</td>\n",
       "      <td>...</td>\n",
       "      <td>0.0</td>\n",
       "      <td>1.0</td>\n",
       "      <td>0.827327</td>\n",
       "      <td>0.291792</td>\n",
       "      <td>1.00000</td>\n",
       "      <td>0.0</td>\n",
       "      <td>0.986486</td>\n",
       "      <td>0.0</td>\n",
       "      <td>0.472472</td>\n",
       "      <td>1.0</td>\n",
       "    </tr>\n",
       "  </tbody>\n",
       "</table>\n",
       "<p>32561 rows × 37 columns</p>\n",
       "</div>"
      ],
      "text/plain": [
       "        0    1    2    3    4    5    6    7    8    9   ...   27   28  \\\n",
       "0      0.0  0.0  0.0  0.0  0.0  0.0  0.0  0.0  0.0  1.0  ...  0.0  0.0   \n",
       "1      0.0  0.0  0.0  0.0  0.0  0.0  0.0  0.0  0.0  1.0  ...  0.0  0.0   \n",
       "2      0.0  0.0  0.0  0.0  0.0  0.0  0.0  0.0  0.0  0.0  ...  0.0  0.0   \n",
       "3      0.0  1.0  0.0  0.0  0.0  0.0  0.0  0.0  0.0  0.0  ...  0.0  0.0   \n",
       "4      0.0  0.0  0.0  0.0  0.0  0.0  0.0  0.0  0.0  1.0  ...  0.0  1.0   \n",
       "...    ...  ...  ...  ...  ...  ...  ...  ...  ...  ...  ...  ...  ...   \n",
       "32556  0.0  0.0  0.0  0.0  0.0  0.0  0.0  1.0  0.0  0.0  ...  0.0  1.0   \n",
       "32557  0.0  0.0  0.0  0.0  0.0  0.0  0.0  0.0  0.0  0.0  ...  0.0  0.0   \n",
       "32558  0.0  0.0  0.0  0.0  0.0  0.0  0.0  0.0  0.0  0.0  ...  1.0  0.0   \n",
       "32559  0.0  0.0  0.0  0.0  0.0  0.0  0.0  0.0  0.0  0.0  ...  0.0  0.0   \n",
       "32560  0.0  0.0  0.0  0.0  0.0  0.0  0.0  0.0  0.0  0.0  ...  0.0  1.0   \n",
       "\n",
       "             29        30       31   32        33   34        35   36  \n",
       "0      0.550551  0.834334  1.00000  1.0  0.922923  0.0  0.472472  0.0  \n",
       "1      0.792292  0.834334  1.00000  1.0  0.000000  0.0  0.028886  0.0  \n",
       "2      0.525025  0.291792  1.00000  1.0  0.000000  0.0  0.472472  0.0  \n",
       "3      0.841341  0.099600  0.08959  1.0  0.000000  0.0  0.472472  0.0  \n",
       "4      0.259760  0.834334  0.08959  0.0  0.000000  0.0  0.472472  0.0  \n",
       "...         ...       ...      ...  ...       ...  ...       ...  ...  \n",
       "32556  0.233734  0.735736  1.00000  0.0  0.000000  0.0  0.229730  0.0  \n",
       "32557  0.575075  0.291792  1.00000  1.0  0.000000  0.0  0.472472  1.0  \n",
       "32558  0.901902  0.291792  1.00000  0.0  0.000000  0.0  0.472472  0.0  \n",
       "32559  0.108108  0.291792  1.00000  1.0  0.000000  0.0  0.071071  0.0  \n",
       "32560  0.827327  0.291792  1.00000  0.0  0.986486  0.0  0.472472  1.0  \n",
       "\n",
       "[32561 rows x 37 columns]"
      ]
     },
     "execution_count": 165,
     "metadata": {},
     "output_type": "execute_result"
    }
   ],
   "source": [
    "data"
   ]
  },
  {
   "cell_type": "code",
   "execution_count": 166,
   "id": "41d3d113",
   "metadata": {},
   "outputs": [],
   "source": [
    "from sklearn.model_selection import train_test_split"
   ]
  },
  {
   "cell_type": "code",
   "execution_count": 167,
   "id": "cfb0df5b",
   "metadata": {},
   "outputs": [],
   "source": [
    "train_data, test_data, train_labels, test_labels = train_test_split(data.iloc[:, :-1], \n",
    "                                                                    data.iloc[:, -1:], \n",
    "                                                                    test_size = 1/3, \n",
    "                                                                    random_state = 52)"
   ]
  },
  {
   "cell_type": "code",
   "execution_count": 168,
   "id": "60459e5d",
   "metadata": {},
   "outputs": [
    {
     "data": {
      "text/plain": [
       "(21707, 36)"
      ]
     },
     "execution_count": 168,
     "metadata": {},
     "output_type": "execute_result"
    }
   ],
   "source": [
    "train_data.shape"
   ]
  },
  {
   "cell_type": "code",
   "execution_count": 169,
   "id": "b886ae37",
   "metadata": {},
   "outputs": [
    {
     "data": {
      "text/plain": [
       "(10854, 36)"
      ]
     },
     "execution_count": 169,
     "metadata": {},
     "output_type": "execute_result"
    }
   ],
   "source": [
    "test_data.shape"
   ]
  },
  {
   "cell_type": "markdown",
   "id": "50f97a38",
   "metadata": {},
   "source": [
    "--------------"
   ]
  },
  {
   "cell_type": "markdown",
   "id": "a1c0bfb6",
   "metadata": {},
   "source": [
    "## Logistic Regression\n",
    "---------"
   ]
  },
  {
   "cell_type": "code",
   "execution_count": 170,
   "id": "2a92db53",
   "metadata": {},
   "outputs": [],
   "source": [
    "from sklearn.linear_model import LogisticRegression"
   ]
  },
  {
   "cell_type": "code",
   "execution_count": 171,
   "id": "d580a578",
   "metadata": {
    "scrolled": true
   },
   "outputs": [
    {
     "name": "stdout",
     "output_type": "stream",
     "text": [
      "Loading...\n",
      "ACCURACY: 83.46231803943247, penalty: l2, solver: newton-cg, max_iter: 50\n",
      "ACCURACY: 83.46231803943247, penalty: l2, solver: newton-cg, max_iter: 75\n",
      "ACCURACY: 83.46231803943247, penalty: l2, solver: newton-cg, max_iter: 100\n",
      "ACCURACY: 83.46231803943247, penalty: l2, solver: newton-cg, max_iter: 125\n",
      "ACCURACY: 83.46231803943247, penalty: l2, solver: newton-cg, max_iter: 150\n"
     ]
    },
    {
     "name": "stderr",
     "output_type": "stream",
     "text": [
      "C:\\Users\\90545\\anaconda3\\envs\\data science\\lib\\site-packages\\sklearn\\linear_model\\_logistic.py:763: ConvergenceWarning: lbfgs failed to converge (status=1):\n",
      "STOP: TOTAL NO. of ITERATIONS REACHED LIMIT.\n",
      "\n",
      "Increase the number of iterations (max_iter) or scale the data as shown in:\n",
      "    https://scikit-learn.org/stable/modules/preprocessing.html\n",
      "Please also refer to the documentation for alternative solver options:\n",
      "    https://scikit-learn.org/stable/modules/linear_model.html#logistic-regression\n",
      "  n_iter_i = _check_optimize_result(\n"
     ]
    },
    {
     "name": "stdout",
     "output_type": "stream",
     "text": [
      "ACCURACY: 83.45310484613967, penalty: l2, solver: lbfgs, max_iter: 50\n"
     ]
    },
    {
     "name": "stderr",
     "output_type": "stream",
     "text": [
      "C:\\Users\\90545\\anaconda3\\envs\\data science\\lib\\site-packages\\sklearn\\linear_model\\_logistic.py:763: ConvergenceWarning: lbfgs failed to converge (status=1):\n",
      "STOP: TOTAL NO. of ITERATIONS REACHED LIMIT.\n",
      "\n",
      "Increase the number of iterations (max_iter) or scale the data as shown in:\n",
      "    https://scikit-learn.org/stable/modules/preprocessing.html\n",
      "Please also refer to the documentation for alternative solver options:\n",
      "    https://scikit-learn.org/stable/modules/linear_model.html#logistic-regression\n",
      "  n_iter_i = _check_optimize_result(\n"
     ]
    },
    {
     "name": "stdout",
     "output_type": "stream",
     "text": [
      "ACCURACY: 83.46231803943247, penalty: l2, solver: lbfgs, max_iter: 75\n"
     ]
    },
    {
     "name": "stderr",
     "output_type": "stream",
     "text": [
      "C:\\Users\\90545\\anaconda3\\envs\\data science\\lib\\site-packages\\sklearn\\linear_model\\_logistic.py:763: ConvergenceWarning: lbfgs failed to converge (status=1):\n",
      "STOP: TOTAL NO. of ITERATIONS REACHED LIMIT.\n",
      "\n",
      "Increase the number of iterations (max_iter) or scale the data as shown in:\n",
      "    https://scikit-learn.org/stable/modules/preprocessing.html\n",
      "Please also refer to the documentation for alternative solver options:\n",
      "    https://scikit-learn.org/stable/modules/linear_model.html#logistic-regression\n",
      "  n_iter_i = _check_optimize_result(\n"
     ]
    },
    {
     "name": "stdout",
     "output_type": "stream",
     "text": [
      "ACCURACY: 83.47153123272525, penalty: l2, solver: lbfgs, max_iter: 100\n"
     ]
    },
    {
     "name": "stderr",
     "output_type": "stream",
     "text": [
      "C:\\Users\\90545\\anaconda3\\envs\\data science\\lib\\site-packages\\sklearn\\linear_model\\_logistic.py:763: ConvergenceWarning: lbfgs failed to converge (status=1):\n",
      "STOP: TOTAL NO. of ITERATIONS REACHED LIMIT.\n",
      "\n",
      "Increase the number of iterations (max_iter) or scale the data as shown in:\n",
      "    https://scikit-learn.org/stable/modules/preprocessing.html\n",
      "Please also refer to the documentation for alternative solver options:\n",
      "    https://scikit-learn.org/stable/modules/linear_model.html#logistic-regression\n",
      "  n_iter_i = _check_optimize_result(\n"
     ]
    },
    {
     "name": "stdout",
     "output_type": "stream",
     "text": [
      "ACCURACY: 83.46231803943247, penalty: l2, solver: lbfgs, max_iter: 125\n"
     ]
    },
    {
     "name": "stderr",
     "output_type": "stream",
     "text": [
      "C:\\Users\\90545\\anaconda3\\envs\\data science\\lib\\site-packages\\sklearn\\linear_model\\_logistic.py:763: ConvergenceWarning: lbfgs failed to converge (status=1):\n",
      "STOP: TOTAL NO. of ITERATIONS REACHED LIMIT.\n",
      "\n",
      "Increase the number of iterations (max_iter) or scale the data as shown in:\n",
      "    https://scikit-learn.org/stable/modules/preprocessing.html\n",
      "Please also refer to the documentation for alternative solver options:\n",
      "    https://scikit-learn.org/stable/modules/linear_model.html#logistic-regression\n",
      "  n_iter_i = _check_optimize_result(\n"
     ]
    },
    {
     "name": "stdout",
     "output_type": "stream",
     "text": [
      "ACCURACY: 83.46231803943247, penalty: l2, solver: lbfgs, max_iter: 150\n",
      "ACCURACY: 83.46231803943247, penalty: l2, solver: sag, max_iter: 50\n",
      "ACCURACY: 83.46231803943247, penalty: l2, solver: sag, max_iter: 75\n",
      "ACCURACY: 83.46231803943247, penalty: l2, solver: sag, max_iter: 100\n",
      "ACCURACY: 83.46231803943247, penalty: l2, solver: sag, max_iter: 125\n",
      "ACCURACY: 83.46231803943247, penalty: l2, solver: sag, max_iter: 150\n"
     ]
    },
    {
     "name": "stderr",
     "output_type": "stream",
     "text": [
      "C:\\Users\\90545\\anaconda3\\envs\\data science\\lib\\site-packages\\sklearn\\linear_model\\_sag.py:328: ConvergenceWarning: The max_iter was reached which means the coef_ did not converge\n",
      "  warnings.warn(\"The max_iter was reached which means \"\n"
     ]
    },
    {
     "name": "stdout",
     "output_type": "stream",
     "text": [
      "ACCURACY: 83.46231803943247, penalty: l2, solver: saga, max_iter: 50\n",
      "ACCURACY: 83.46231803943247, penalty: l2, solver: saga, max_iter: 75\n",
      "ACCURACY: 83.46231803943247, penalty: l2, solver: saga, max_iter: 100\n",
      "ACCURACY: 83.46231803943247, penalty: l2, solver: saga, max_iter: 125\n",
      "ACCURACY: 83.46231803943247, penalty: l2, solver: saga, max_iter: 150\n",
      "ACCURACY: 83.42546526626128, penalty: none, solver: newton-cg, max_iter: 50\n",
      "ACCURACY: 83.42546526626128, penalty: none, solver: newton-cg, max_iter: 75\n",
      "ACCURACY: 83.42546526626128, penalty: none, solver: newton-cg, max_iter: 100\n",
      "ACCURACY: 83.42546526626128, penalty: none, solver: newton-cg, max_iter: 125\n",
      "ACCURACY: 83.42546526626128, penalty: none, solver: newton-cg, max_iter: 150\n"
     ]
    },
    {
     "name": "stderr",
     "output_type": "stream",
     "text": [
      "C:\\Users\\90545\\anaconda3\\envs\\data science\\lib\\site-packages\\sklearn\\linear_model\\_logistic.py:763: ConvergenceWarning: lbfgs failed to converge (status=1):\n",
      "STOP: TOTAL NO. of ITERATIONS REACHED LIMIT.\n",
      "\n",
      "Increase the number of iterations (max_iter) or scale the data as shown in:\n",
      "    https://scikit-learn.org/stable/modules/preprocessing.html\n",
      "Please also refer to the documentation for alternative solver options:\n",
      "    https://scikit-learn.org/stable/modules/linear_model.html#logistic-regression\n",
      "  n_iter_i = _check_optimize_result(\n"
     ]
    },
    {
     "name": "stdout",
     "output_type": "stream",
     "text": [
      "ACCURACY: 83.4070388796757, penalty: none, solver: lbfgs, max_iter: 50\n"
     ]
    },
    {
     "name": "stderr",
     "output_type": "stream",
     "text": [
      "C:\\Users\\90545\\anaconda3\\envs\\data science\\lib\\site-packages\\sklearn\\linear_model\\_logistic.py:763: ConvergenceWarning: lbfgs failed to converge (status=1):\n",
      "STOP: TOTAL NO. of ITERATIONS REACHED LIMIT.\n",
      "\n",
      "Increase the number of iterations (max_iter) or scale the data as shown in:\n",
      "    https://scikit-learn.org/stable/modules/preprocessing.html\n",
      "Please also refer to the documentation for alternative solver options:\n",
      "    https://scikit-learn.org/stable/modules/linear_model.html#logistic-regression\n",
      "  n_iter_i = _check_optimize_result(\n"
     ]
    },
    {
     "name": "stdout",
     "output_type": "stream",
     "text": [
      "ACCURACY: 83.43467845955408, penalty: none, solver: lbfgs, max_iter: 75\n"
     ]
    },
    {
     "name": "stderr",
     "output_type": "stream",
     "text": [
      "C:\\Users\\90545\\anaconda3\\envs\\data science\\lib\\site-packages\\sklearn\\linear_model\\_logistic.py:763: ConvergenceWarning: lbfgs failed to converge (status=1):\n",
      "STOP: TOTAL NO. of ITERATIONS REACHED LIMIT.\n",
      "\n",
      "Increase the number of iterations (max_iter) or scale the data as shown in:\n",
      "    https://scikit-learn.org/stable/modules/preprocessing.html\n",
      "Please also refer to the documentation for alternative solver options:\n",
      "    https://scikit-learn.org/stable/modules/linear_model.html#logistic-regression\n",
      "  n_iter_i = _check_optimize_result(\n"
     ]
    },
    {
     "name": "stdout",
     "output_type": "stream",
     "text": [
      "ACCURACY: 83.41625207296849, penalty: none, solver: lbfgs, max_iter: 100\n"
     ]
    },
    {
     "name": "stderr",
     "output_type": "stream",
     "text": [
      "C:\\Users\\90545\\anaconda3\\envs\\data science\\lib\\site-packages\\sklearn\\linear_model\\_logistic.py:763: ConvergenceWarning: lbfgs failed to converge (status=1):\n",
      "STOP: TOTAL NO. of ITERATIONS REACHED LIMIT.\n",
      "\n",
      "Increase the number of iterations (max_iter) or scale the data as shown in:\n",
      "    https://scikit-learn.org/stable/modules/preprocessing.html\n",
      "Please also refer to the documentation for alternative solver options:\n",
      "    https://scikit-learn.org/stable/modules/linear_model.html#logistic-regression\n",
      "  n_iter_i = _check_optimize_result(\n"
     ]
    },
    {
     "name": "stdout",
     "output_type": "stream",
     "text": [
      "ACCURACY: 83.42546526626128, penalty: none, solver: lbfgs, max_iter: 125\n"
     ]
    },
    {
     "name": "stderr",
     "output_type": "stream",
     "text": [
      "C:\\Users\\90545\\anaconda3\\envs\\data science\\lib\\site-packages\\sklearn\\linear_model\\_logistic.py:763: ConvergenceWarning: lbfgs failed to converge (status=1):\n",
      "STOP: TOTAL NO. of ITERATIONS REACHED LIMIT.\n",
      "\n",
      "Increase the number of iterations (max_iter) or scale the data as shown in:\n",
      "    https://scikit-learn.org/stable/modules/preprocessing.html\n",
      "Please also refer to the documentation for alternative solver options:\n",
      "    https://scikit-learn.org/stable/modules/linear_model.html#logistic-regression\n",
      "  n_iter_i = _check_optimize_result(\n"
     ]
    },
    {
     "name": "stdout",
     "output_type": "stream",
     "text": [
      "ACCURACY: 83.44389165284689, penalty: none, solver: lbfgs, max_iter: 150\n"
     ]
    },
    {
     "name": "stderr",
     "output_type": "stream",
     "text": [
      "C:\\Users\\90545\\anaconda3\\envs\\data science\\lib\\site-packages\\sklearn\\linear_model\\_sag.py:328: ConvergenceWarning: The max_iter was reached which means the coef_ did not converge\n",
      "  warnings.warn(\"The max_iter was reached which means \"\n"
     ]
    },
    {
     "name": "stdout",
     "output_type": "stream",
     "text": [
      "ACCURACY: 83.42546526626128, penalty: none, solver: sag, max_iter: 50\n"
     ]
    },
    {
     "name": "stderr",
     "output_type": "stream",
     "text": [
      "C:\\Users\\90545\\anaconda3\\envs\\data science\\lib\\site-packages\\sklearn\\linear_model\\_sag.py:328: ConvergenceWarning: The max_iter was reached which means the coef_ did not converge\n",
      "  warnings.warn(\"The max_iter was reached which means \"\n"
     ]
    },
    {
     "name": "stdout",
     "output_type": "stream",
     "text": [
      "ACCURACY: 83.42546526626128, penalty: none, solver: sag, max_iter: 75\n"
     ]
    },
    {
     "name": "stderr",
     "output_type": "stream",
     "text": [
      "C:\\Users\\90545\\anaconda3\\envs\\data science\\lib\\site-packages\\sklearn\\linear_model\\_sag.py:328: ConvergenceWarning: The max_iter was reached which means the coef_ did not converge\n",
      "  warnings.warn(\"The max_iter was reached which means \"\n"
     ]
    },
    {
     "name": "stdout",
     "output_type": "stream",
     "text": [
      "ACCURACY: 83.42546526626128, penalty: none, solver: sag, max_iter: 100\n"
     ]
    },
    {
     "name": "stderr",
     "output_type": "stream",
     "text": [
      "C:\\Users\\90545\\anaconda3\\envs\\data science\\lib\\site-packages\\sklearn\\linear_model\\_sag.py:328: ConvergenceWarning: The max_iter was reached which means the coef_ did not converge\n",
      "  warnings.warn(\"The max_iter was reached which means \"\n"
     ]
    },
    {
     "name": "stdout",
     "output_type": "stream",
     "text": [
      "ACCURACY: 83.42546526626128, penalty: none, solver: sag, max_iter: 125\n"
     ]
    },
    {
     "name": "stderr",
     "output_type": "stream",
     "text": [
      "C:\\Users\\90545\\anaconda3\\envs\\data science\\lib\\site-packages\\sklearn\\linear_model\\_sag.py:328: ConvergenceWarning: The max_iter was reached which means the coef_ did not converge\n",
      "  warnings.warn(\"The max_iter was reached which means \"\n"
     ]
    },
    {
     "name": "stdout",
     "output_type": "stream",
     "text": [
      "ACCURACY: 83.42546526626128, penalty: none, solver: sag, max_iter: 150\n"
     ]
    },
    {
     "name": "stderr",
     "output_type": "stream",
     "text": [
      "C:\\Users\\90545\\anaconda3\\envs\\data science\\lib\\site-packages\\sklearn\\linear_model\\_sag.py:328: ConvergenceWarning: The max_iter was reached which means the coef_ did not converge\n",
      "  warnings.warn(\"The max_iter was reached which means \"\n"
     ]
    },
    {
     "name": "stdout",
     "output_type": "stream",
     "text": [
      "ACCURACY: 83.42546526626128, penalty: none, solver: saga, max_iter: 50\n"
     ]
    },
    {
     "name": "stderr",
     "output_type": "stream",
     "text": [
      "C:\\Users\\90545\\anaconda3\\envs\\data science\\lib\\site-packages\\sklearn\\linear_model\\_sag.py:328: ConvergenceWarning: The max_iter was reached which means the coef_ did not converge\n",
      "  warnings.warn(\"The max_iter was reached which means \"\n"
     ]
    },
    {
     "name": "stdout",
     "output_type": "stream",
     "text": [
      "ACCURACY: 83.42546526626128, penalty: none, solver: saga, max_iter: 75\n"
     ]
    },
    {
     "name": "stderr",
     "output_type": "stream",
     "text": [
      "C:\\Users\\90545\\anaconda3\\envs\\data science\\lib\\site-packages\\sklearn\\linear_model\\_sag.py:328: ConvergenceWarning: The max_iter was reached which means the coef_ did not converge\n",
      "  warnings.warn(\"The max_iter was reached which means \"\n"
     ]
    },
    {
     "name": "stdout",
     "output_type": "stream",
     "text": [
      "ACCURACY: 83.42546526626128, penalty: none, solver: saga, max_iter: 100\n"
     ]
    },
    {
     "name": "stderr",
     "output_type": "stream",
     "text": [
      "C:\\Users\\90545\\anaconda3\\envs\\data science\\lib\\site-packages\\sklearn\\linear_model\\_sag.py:328: ConvergenceWarning: The max_iter was reached which means the coef_ did not converge\n",
      "  warnings.warn(\"The max_iter was reached which means \"\n"
     ]
    },
    {
     "name": "stdout",
     "output_type": "stream",
     "text": [
      "ACCURACY: 83.42546526626128, penalty: none, solver: saga, max_iter: 125\n",
      "ACCURACY: 83.42546526626128, penalty: none, solver: saga, max_iter: 150\n"
     ]
    },
    {
     "name": "stderr",
     "output_type": "stream",
     "text": [
      "C:\\Users\\90545\\anaconda3\\envs\\data science\\lib\\site-packages\\sklearn\\linear_model\\_sag.py:328: ConvergenceWarning: The max_iter was reached which means the coef_ did not converge\n",
      "  warnings.warn(\"The max_iter was reached which means \"\n"
     ]
    }
   ],
   "source": [
    "print(\"Loading...\")\n",
    "\n",
    "for x in [\"l2\", \"none\"]:\n",
    "    for y in [\"newton-cg\", \"lbfgs\", \"sag\", \"saga\"]:\n",
    "        for i in [50, 75, 100, 125, 150]:\n",
    "                \n",
    "            lr = LogisticRegression(penalty = x, \n",
    "                                    solver = y, \n",
    "                                    max_iter = i)\n",
    "                \n",
    "            lr_ = lr.fit(train_data.values, train_labels.values.ravel())\n",
    "            y_pred = lr_.predict(test_data.values)\n",
    "                \n",
    "            from sklearn.metrics import accuracy_score\n",
    "                \n",
    "            ac = accuracy_score(y_pred = y_pred, y_true = test_labels)\n",
    "                \n",
    "            if ac * 100 > 80:\n",
    "                \n",
    "                print(\"ACCURACY: {}, penalty: {}, solver: {}, max_iter: {}\".format(ac * 100, x, y, i))"
   ]
  },
  {
   "cell_type": "code",
   "execution_count": null,
   "id": "9de0c16f",
   "metadata": {},
   "outputs": [],
   "source": []
  },
  {
   "cell_type": "markdown",
   "id": "1888cd6f",
   "metadata": {},
   "source": [
    "*************"
   ]
  },
  {
   "cell_type": "markdown",
   "id": "189d419e",
   "metadata": {},
   "source": [
    "## KNN\n",
    "--------------"
   ]
  },
  {
   "cell_type": "code",
   "execution_count": 172,
   "id": "7947874a",
   "metadata": {},
   "outputs": [],
   "source": [
    "from sklearn.neighbors import KNeighborsClassifier"
   ]
  },
  {
   "cell_type": "code",
   "execution_count": 173,
   "id": "e5d0966e",
   "metadata": {
    "scrolled": true
   },
   "outputs": [
    {
     "name": "stdout",
     "output_type": "stream",
     "text": [
      "Loading...\n",
      "ACCURACY: 80.74442601805785, n_neighbors: 3, weights: uniform\n",
      "ACCURACY: 80.32983231988207, n_neighbors: 3, weights: distance\n",
      "ACCURACY: 81.92371475953566, n_neighbors: 4, weights: uniform\n",
      "ACCURACY: 81.11295374976967, n_neighbors: 4, weights: distance\n",
      "ACCURACY: 82.16325778514833, n_neighbors: 5, weights: uniform\n",
      "ACCURACY: 81.30643080891838, n_neighbors: 5, weights: distance\n",
      "ACCURACY: 82.53178551686014, n_neighbors: 6, weights: uniform\n",
      "ACCURACY: 81.71181131380136, n_neighbors: 6, weights: distance\n",
      "ACCURACY: 82.26460291136908, n_neighbors: 7, weights: uniform\n",
      "ACCURACY: 81.59203980099502, n_neighbors: 7, weights: distance\n",
      "ACCURACY: 82.48571955039617, n_neighbors: 8, weights: uniform\n",
      "ACCURACY: 81.89607517965727, n_neighbors: 8, weights: distance\n",
      "ACCURACY: 82.39358761746821, n_neighbors: 9, weights: uniform\n",
      "ACCURACY: 81.81315644002211, n_neighbors: 9, weights: distance\n",
      "ACCURACY: 82.74368896259443, n_neighbors: 10, weights: uniform\n",
      "ACCURACY: 82.13561820526995, n_neighbors: 10, weights: distance\n",
      "ACCURACY: 82.6054910632025, n_neighbors: 11, weights: uniform\n",
      "ACCURACY: 82.08955223880598, n_neighbors: 11, weights: distance\n",
      "ACCURACY: 82.68840980283765, n_neighbors: 12, weights: uniform\n",
      "ACCURACY: 82.11719181868435, n_neighbors: 12, weights: distance\n",
      "ACCURACY: 82.67919660954487, n_neighbors: 13, weights: uniform\n",
      "ACCURACY: 82.14483139856274, n_neighbors: 13, weights: distance\n",
      "ACCURACY: 82.77132854247282, n_neighbors: 14, weights: uniform\n",
      "ACCURACY: 82.06191265892758, n_neighbors: 14, weights: distance\n",
      "ACCURACY: 82.88188686198636, n_neighbors: 15, weights: uniform\n",
      "ACCURACY: 82.11719181868435, n_neighbors: 15, weights: distance\n",
      "ACCURACY: 82.93716602174314, n_neighbors: 16, weights: uniform\n",
      "ACCURACY: 82.16325778514833, n_neighbors: 16, weights: distance\n",
      "ACCURACY: 82.94637921503593, n_neighbors: 17, weights: uniform\n",
      "ACCURACY: 82.30145568454026, n_neighbors: 17, weights: distance\n",
      "ACCURACY: 82.88188686198636, n_neighbors: 18, weights: uniform\n",
      "ACCURACY: 82.30145568454026, n_neighbors: 18, weights: distance\n",
      "ACCURACY: 82.95559240832873, n_neighbors: 19, weights: uniform\n",
      "ACCURACY: 82.36594803758983, n_neighbors: 19, weights: distance\n",
      "ACCURACY: 83.00165837479271, n_neighbors: 20, weights: uniform\n",
      "ACCURACY: 82.31066887783307, n_neighbors: 20, weights: distance\n"
     ]
    }
   ],
   "source": [
    "print(\"Loading...\")\n",
    "\n",
    "for x in range(3, 21):\n",
    "    for y in [\"uniform\", \"distance\"]:\n",
    "                \n",
    "        knn = KNeighborsClassifier(n_neighbors = x, \n",
    "                                    weights = y)\n",
    "                \n",
    "        fit_ = knn.fit(train_data, train_labels.values.ravel())\n",
    "        y_pred = fit_.predict(test_data)\n",
    "                \n",
    "        from sklearn.metrics import accuracy_score\n",
    "                \n",
    "        ac = accuracy_score(y_true = test_labels, y_pred = y_pred)\n",
    "                \n",
    "        if ac * 100 > 80:\n",
    "                \n",
    "            print(\"ACCURACY: {}, n_neighbors: {}, weights: {}\".format(ac * 100, x, y))"
   ]
  },
  {
   "cell_type": "code",
   "execution_count": null,
   "id": "717cf8b6",
   "metadata": {},
   "outputs": [],
   "source": []
  },
  {
   "cell_type": "markdown",
   "id": "6d0e7d9a",
   "metadata": {},
   "source": [
    "-----------"
   ]
  },
  {
   "cell_type": "markdown",
   "id": "b9cf8a67",
   "metadata": {},
   "source": [
    "## SVC \n",
    "----"
   ]
  },
  {
   "cell_type": "code",
   "execution_count": 175,
   "id": "dd4cada7",
   "metadata": {},
   "outputs": [],
   "source": [
    "from sklearn.svm import SVC"
   ]
  },
  {
   "cell_type": "code",
   "execution_count": 176,
   "id": "7428675c",
   "metadata": {
    "scrolled": true
   },
   "outputs": [
    {
     "name": "stdout",
     "output_type": "stream",
     "text": [
      "Loading...\n",
      "ACCURACY: 82.7989681223512, kernel: linear, gamma: scale\n",
      "ACCURACY: 82.7989681223512, kernel: linear, gamma: auto\n",
      "ACCURACY: 82.72526257600884, kernel: poly, degree: 1, gamma: scale\n",
      "ACCURACY: 82.68840980283765, kernel: poly, degree: 1, gamma: auto\n",
      "ACCURACY: 83.06615072784227, kernel: rbf, gamma: scale\n",
      "ACCURACY: 82.7989681223512, kernel: rbf, gamma: auto\n",
      "ACCURACY: 82.68840980283765, kernel: sigmoid, gamma: auto\n",
      "ACCURACY: 82.7989681223512, kernel: linear, gamma: scale\n",
      "ACCURACY: 82.7989681223512, kernel: linear, gamma: auto\n",
      "ACCURACY: 83.08457711442786, kernel: poly, degree: 2, gamma: scale\n",
      "ACCURACY: 82.76211534918002, kernel: poly, degree: 2, gamma: auto\n",
      "ACCURACY: 83.06615072784227, kernel: rbf, gamma: scale\n",
      "ACCURACY: 82.7989681223512, kernel: rbf, gamma: auto\n",
      "ACCURACY: 82.68840980283765, kernel: sigmoid, gamma: auto\n",
      "ACCURACY: 82.7989681223512, kernel: linear, gamma: scale\n",
      "ACCURACY: 82.7989681223512, kernel: linear, gamma: auto\n",
      "ACCURACY: 83.08457711442786, kernel: poly, degree: 3, gamma: scale\n",
      "ACCURACY: 81.52754744794547, kernel: poly, degree: 3, gamma: auto\n",
      "ACCURACY: 83.06615072784227, kernel: rbf, gamma: scale\n",
      "ACCURACY: 82.7989681223512, kernel: rbf, gamma: auto\n",
      "ACCURACY: 82.68840980283765, kernel: sigmoid, gamma: auto\n",
      "ACCURACY: 82.7989681223512, kernel: linear, gamma: scale\n",
      "ACCURACY: 82.7989681223512, kernel: linear, gamma: auto\n",
      "ACCURACY: 83.08457711442786, kernel: poly, degree: 4, gamma: scale\n",
      "ACCURACY: 83.06615072784227, kernel: rbf, gamma: scale\n",
      "ACCURACY: 82.7989681223512, kernel: rbf, gamma: auto\n",
      "ACCURACY: 82.68840980283765, kernel: sigmoid, gamma: auto\n"
     ]
    }
   ],
   "source": [
    "print(\"Loading...\")\n",
    "\n",
    "for x in range(1, 5):\n",
    "    for y in [\"linear\", \"poly\", \"rbf\", \"sigmoid\"]:\n",
    "        for i in [\"scale\", \"auto\"]:\n",
    "            \n",
    "            if y == \"poly\":\n",
    "                \n",
    "                svc = SVC(kernel = y, degree = x, gamma = i)\n",
    "                fit_ = svc.fit(train_data, train_labels.values.ravel())\n",
    "                y_pred = fit_.predict(test_data)\n",
    "\n",
    "                from sklearn.metrics import accuracy_score\n",
    "\n",
    "                ac = accuracy_score(y_true = test_labels, y_pred = y_pred)\n",
    "\n",
    "                if ac * 100 > 80:\n",
    "\n",
    "                    print(\"ACCURACY: {}, kernel: {}, degree: {}, gamma: {}\".format(ac * 100, y, x, i))\n",
    "                    \n",
    "            else:\n",
    "                \n",
    "                svc = SVC(kernel = y, gamma = i)\n",
    "                fit_ = svc.fit(train_data, train_labels.values.ravel())\n",
    "                y_pred = fit_.predict(test_data)\n",
    "\n",
    "                from sklearn.metrics import accuracy_score\n",
    "\n",
    "                ac = accuracy_score(y_true = test_labels, y_pred = y_pred)\n",
    "\n",
    "                if ac * 100 > 80:\n",
    "\n",
    "                    print(\"ACCURACY: {}, kernel: {}, gamma: {}\".format(ac * 100, y, i))"
   ]
  },
  {
   "cell_type": "code",
   "execution_count": null,
   "id": "c28af1f9",
   "metadata": {},
   "outputs": [],
   "source": []
  },
  {
   "cell_type": "markdown",
   "id": "1b4700ee",
   "metadata": {},
   "source": [
    "--------------"
   ]
  },
  {
   "cell_type": "markdown",
   "id": "bf219171",
   "metadata": {},
   "source": [
    "## Naive Bayes\n",
    "-----------"
   ]
  },
  {
   "cell_type": "code",
   "execution_count": 177,
   "id": "8606c203",
   "metadata": {},
   "outputs": [],
   "source": [
    "from sklearn.naive_bayes import GaussianNB, MultinomialNB, ComplementNB, BernoulliNB"
   ]
  },
  {
   "cell_type": "code",
   "execution_count": 181,
   "id": "7967d7ff",
   "metadata": {},
   "outputs": [],
   "source": [
    "gnb = GaussianNB()\n",
    "mnb = MultinomialNB()\n",
    "cnb = ComplementNB()\n",
    "bnb = BernoulliNB()"
   ]
  },
  {
   "cell_type": "code",
   "execution_count": 189,
   "id": "35f6a813",
   "metadata": {},
   "outputs": [
    {
     "name": "stdout",
     "output_type": "stream",
     "text": [
      "Loading...\n",
      "ACCURACY: 66.7772249861802, Algorithm: GaussianNB()\n",
      "ACCURACY: 78.5240464344942, Algorithm: MultinomialNB()\n",
      "ACCURACY: 74.23069836005159, Algorithm: ComplementNB()\n",
      "ACCURACY: 72.32356734844298, Algorithm: BernoulliNB()\n"
     ]
    }
   ],
   "source": [
    "print(\"Loading...\")\n",
    "\n",
    "for i in (gnb, mnb, cnb, bnb):\n",
    "    \n",
    "    fit_ = i.fit(train_data, train_labels.values.ravel())\n",
    "    y_pred = fit_.predict(test_data)\n",
    "\n",
    "    from sklearn.metrics import accuracy_score\n",
    "\n",
    "    ac = accuracy_score(y_true = test_labels, y_pred = y_pred)\n",
    "\n",
    "    if ac * 100 > 50:\n",
    "        print(\"ACCURACY: {}, Algorithm: {}\".format(ac * 100, i))\n",
    "    else:\n",
    "        print(\"None\")"
   ]
  },
  {
   "cell_type": "code",
   "execution_count": null,
   "id": "44357abb",
   "metadata": {},
   "outputs": [],
   "source": []
  },
  {
   "cell_type": "markdown",
   "id": "cf94c3d2",
   "metadata": {},
   "source": [
    "------------"
   ]
  },
  {
   "cell_type": "markdown",
   "id": "29f44f18",
   "metadata": {},
   "source": [
    "## Decision Tree\n",
    "-----------"
   ]
  },
  {
   "cell_type": "code",
   "execution_count": 190,
   "id": "7f9e5a2e",
   "metadata": {},
   "outputs": [],
   "source": [
    "from sklearn.tree import DecisionTreeClassifier"
   ]
  },
  {
   "cell_type": "code",
   "execution_count": 195,
   "id": "a580bd6c",
   "metadata": {
    "scrolled": false
   },
   "outputs": [
    {
     "name": "stdout",
     "output_type": "stream",
     "text": [
      "Loading...\n",
      "ACCURACY: 85.5444997236042, criterion: gini, splitter: best, max_depth: 8\n",
      "ACCURACY: 85.56292611018979, criterion: gini, splitter: best, max_depth: 9\n",
      "ACCURACY: 85.553712916897, criterion: gini, splitter: best, max_depth: 10\n",
      "ACCURACY: 85.51686014372581, criterion: gini, splitter: best, max_depth: 11\n"
     ]
    }
   ],
   "source": [
    "print(\"Loading...\")\n",
    "\n",
    "for x in [\"gini\", \"entropy\"]:\n",
    "    for y in [\"best\", \"random\"]:\n",
    "        for i in [None, 1, 2, 3, 4, 5, 6, 7, 8, 9, 10, 11, 12, 13, 14, 15]:\n",
    "                \n",
    "            tree = DecisionTreeClassifier(criterion = x, \n",
    "                                          splitter = y, \n",
    "                                          max_depth = i)\n",
    "                \n",
    "            lr_ = tree.fit(train_data.values, train_labels.values.ravel())\n",
    "            y_pred = lr_.predict(test_data.values)\n",
    "                \n",
    "            from sklearn.metrics import accuracy_score\n",
    "                \n",
    "            ac = accuracy_score(y_pred = y_pred, y_true = test_labels)\n",
    "                \n",
    "            if ac * 100 > 85.5:\n",
    "                \n",
    "                print(\"ACCURACY: {}, criterion: {}, splitter: {}, max_depth: {}\".format(ac * 100, x, y, i))"
   ]
  },
  {
   "cell_type": "code",
   "execution_count": null,
   "id": "dc4e4e8f",
   "metadata": {},
   "outputs": [],
   "source": []
  },
  {
   "cell_type": "markdown",
   "id": "cf989bf8",
   "metadata": {},
   "source": [
    "----------"
   ]
  },
  {
   "cell_type": "markdown",
   "id": "05731f18",
   "metadata": {},
   "source": [
    "## Random Forest\n",
    "---------"
   ]
  },
  {
   "cell_type": "code",
   "execution_count": 196,
   "id": "aae4d29a",
   "metadata": {},
   "outputs": [],
   "source": [
    "from sklearn.ensemble import RandomForestClassifier"
   ]
  },
  {
   "cell_type": "code",
   "execution_count": 201,
   "id": "e7254fa5",
   "metadata": {
    "scrolled": true
   },
   "outputs": [
    {
     "name": "stdout",
     "output_type": "stream",
     "text": [
      "Loading...\n",
      "ACCURACY: 85.57213930348259, n_estimator: 50, criterion: gini, max_depth: 12\n",
      "ACCURACY: 85.65505804311775, n_estimator: 50, criterion: gini, max_depth: 13\n",
      "ACCURACY: 85.58135249677538, n_estimator: 50, criterion: gini, max_depth: 14\n",
      "ACCURACY: 85.67348442970334, n_estimator: 50, criterion: gini, max_depth: 15\n",
      "ACCURACY: 85.52607333701862, n_estimator: 50, criterion: gini, max_depth: 16\n",
      "ACCURACY: 85.57213930348259, n_estimator: 50, criterion: entropy, max_depth: 11\n",
      "ACCURACY: 85.58135249677538, n_estimator: 50, criterion: entropy, max_depth: 12\n",
      "ACCURACY: 85.51686014372581, n_estimator: 50, criterion: entropy, max_depth: 13\n",
      "ACCURACY: 85.60899207665376, n_estimator: 50, criterion: entropy, max_depth: 14\n",
      "ACCURACY: 85.58135249677538, n_estimator: 50, criterion: entropy, max_depth: 15\n",
      "ACCURACY: 85.51686014372581, n_estimator: 60, criterion: gini, max_depth: 11\n",
      "ACCURACY: 85.52607333701862, n_estimator: 60, criterion: gini, max_depth: 12\n",
      "ACCURACY: 85.5444997236042, n_estimator: 60, criterion: gini, max_depth: 13\n",
      "ACCURACY: 85.52607333701862, n_estimator: 60, criterion: gini, max_depth: 14\n",
      "ACCURACY: 85.52607333701862, n_estimator: 60, criterion: gini, max_depth: 15\n",
      "ACCURACY: 85.50764695043303, n_estimator: 60, criterion: gini, max_depth: 16\n",
      "ACCURACY: 85.63663165653216, n_estimator: 60, criterion: gini, max_depth: 17\n",
      "ACCURACY: 85.62741846323935, n_estimator: 60, criterion: entropy, max_depth: 13\n",
      "ACCURACY: 85.59977888336098, n_estimator: 60, criterion: entropy, max_depth: 14\n",
      "ACCURACY: 85.66427123641054, n_estimator: 60, criterion: entropy, max_depth: 15\n",
      "ACCURACY: 85.51686014372581, n_estimator: 60, criterion: entropy, max_depth: 16\n",
      "ACCURACY: 85.5444997236042, n_estimator: 70, criterion: gini, max_depth: 12\n",
      "ACCURACY: 85.59977888336098, n_estimator: 70, criterion: gini, max_depth: 13\n",
      "ACCURACY: 85.52607333701862, n_estimator: 70, criterion: gini, max_depth: 14\n",
      "ACCURACY: 85.52607333701862, n_estimator: 70, criterion: gini, max_depth: 15\n",
      "ACCURACY: 85.57213930348259, n_estimator: 70, criterion: entropy, max_depth: 15\n",
      "ACCURACY: 85.5444997236042, n_estimator: 70, criterion: entropy, max_depth: 16\n",
      "ACCURACY: 85.50764695043303, n_estimator: 70, criterion: entropy, max_depth: 17\n",
      "ACCURACY: 85.50764695043303, n_estimator: 70, criterion: entropy, max_depth: 18\n",
      "ACCURACY: 85.5444997236042, n_estimator: 80, criterion: gini, max_depth: 10\n",
      "ACCURACY: 85.51686014372581, n_estimator: 80, criterion: gini, max_depth: 11\n",
      "ACCURACY: 85.59977888336098, n_estimator: 80, criterion: gini, max_depth: 13\n",
      "ACCURACY: 85.7195503961673, n_estimator: 80, criterion: gini, max_depth: 14\n",
      "ACCURACY: 85.553712916897, n_estimator: 80, criterion: gini, max_depth: 15\n",
      "ACCURACY: 85.66427123641054, n_estimator: 80, criterion: gini, max_depth: 16\n",
      "ACCURACY: 85.5444997236042, n_estimator: 80, criterion: gini, max_depth: 18\n",
      "ACCURACY: 85.57213930348259, n_estimator: 80, criterion: entropy, max_depth: 13\n",
      "ACCURACY: 85.59977888336098, n_estimator: 80, criterion: entropy, max_depth: 14\n",
      "ACCURACY: 85.51686014372581, n_estimator: 80, criterion: entropy, max_depth: 15\n",
      "ACCURACY: 85.5444997236042, n_estimator: 90, criterion: gini, max_depth: 11\n",
      "ACCURACY: 85.53528653031141, n_estimator: 90, criterion: gini, max_depth: 12\n",
      "ACCURACY: 85.53528653031141, n_estimator: 90, criterion: gini, max_depth: 13\n",
      "ACCURACY: 85.553712916897, n_estimator: 90, criterion: gini, max_depth: 14\n",
      "ACCURACY: 85.65505804311775, n_estimator: 90, criterion: gini, max_depth: 15\n",
      "ACCURACY: 85.51686014372581, n_estimator: 90, criterion: entropy, max_depth: 11\n",
      "ACCURACY: 85.53528653031141, n_estimator: 90, criterion: entropy, max_depth: 12\n",
      "ACCURACY: 85.50764695043303, n_estimator: 90, criterion: entropy, max_depth: 13\n",
      "ACCURACY: 85.64584484982495, n_estimator: 90, criterion: entropy, max_depth: 14\n",
      "ACCURACY: 85.64584484982495, n_estimator: 90, criterion: entropy, max_depth: 15\n",
      "ACCURACY: 85.51686014372581, n_estimator: 90, criterion: entropy, max_depth: 16\n",
      "ACCURACY: 85.5444997236042, n_estimator: 100, criterion: gini, max_depth: 11\n",
      "ACCURACY: 85.56292611018979, n_estimator: 100, criterion: gini, max_depth: 12\n",
      "ACCURACY: 85.64584484982495, n_estimator: 100, criterion: gini, max_depth: 14\n",
      "ACCURACY: 85.61820526994657, n_estimator: 100, criterion: gini, max_depth: 15\n",
      "ACCURACY: 85.63663165653216, n_estimator: 100, criterion: gini, max_depth: 16\n",
      "ACCURACY: 85.50764695043303, n_estimator: 100, criterion: entropy, max_depth: 12\n",
      "ACCURACY: 85.58135249677538, n_estimator: 100, criterion: entropy, max_depth: 13\n",
      "ACCURACY: 85.5444997236042, n_estimator: 100, criterion: entropy, max_depth: 14\n",
      "ACCURACY: 85.65505804311775, n_estimator: 100, criterion: entropy, max_depth: 15\n",
      "ACCURACY: 85.53528653031141, n_estimator: 100, criterion: entropy, max_depth: 16\n",
      "ACCURACY: 85.56292611018979, n_estimator: 100, criterion: entropy, max_depth: 17\n",
      "ACCURACY: 85.5444997236042, n_estimator: 110, criterion: gini, max_depth: 12\n",
      "ACCURACY: 85.58135249677538, n_estimator: 110, criterion: gini, max_depth: 13\n",
      "ACCURACY: 85.57213930348259, n_estimator: 110, criterion: gini, max_depth: 14\n",
      "ACCURACY: 85.5444997236042, n_estimator: 110, criterion: entropy, max_depth: 12\n",
      "ACCURACY: 85.56292611018979, n_estimator: 110, criterion: entropy, max_depth: 13\n",
      "ACCURACY: 85.51686014372581, n_estimator: 110, criterion: entropy, max_depth: 15\n",
      "ACCURACY: 85.59977888336098, n_estimator: 110, criterion: entropy, max_depth: 16\n",
      "ACCURACY: 85.63663165653216, n_estimator: 110, criterion: entropy, max_depth: 17\n",
      "ACCURACY: 85.53528653031141, n_estimator: 120, criterion: gini, max_depth: 12\n",
      "ACCURACY: 85.58135249677538, n_estimator: 120, criterion: gini, max_depth: 13\n",
      "ACCURACY: 85.63663165653216, n_estimator: 120, criterion: gini, max_depth: 14\n",
      "ACCURACY: 85.59056569006817, n_estimator: 120, criterion: gini, max_depth: 15\n",
      "ACCURACY: 85.51686014372581, n_estimator: 120, criterion: gini, max_depth: 16\n",
      "ACCURACY: 85.51686014372581, n_estimator: 120, criterion: entropy, max_depth: 12\n",
      "ACCURACY: 85.68269762299613, n_estimator: 120, criterion: entropy, max_depth: 14\n",
      "ACCURACY: 85.7564031693385, n_estimator: 120, criterion: entropy, max_depth: 15\n",
      "ACCURACY: 85.59056569006817, n_estimator: 120, criterion: entropy, max_depth: 16\n",
      "ACCURACY: 85.51686014372581, n_estimator: 130, criterion: gini, max_depth: 11\n",
      "ACCURACY: 85.53528653031141, n_estimator: 130, criterion: gini, max_depth: 12\n",
      "ACCURACY: 85.56292611018979, n_estimator: 130, criterion: gini, max_depth: 14\n",
      "ACCURACY: 85.59977888336098, n_estimator: 130, criterion: gini, max_depth: 15\n",
      "ACCURACY: 85.553712916897, n_estimator: 130, criterion: gini, max_depth: 16\n",
      "ACCURACY: 85.50764695043303, n_estimator: 130, criterion: entropy, max_depth: 12\n",
      "ACCURACY: 85.5444997236042, n_estimator: 130, criterion: entropy, max_depth: 13\n",
      "ACCURACY: 85.56292611018979, n_estimator: 130, criterion: entropy, max_depth: 14\n",
      "ACCURACY: 85.553712916897, n_estimator: 130, criterion: entropy, max_depth: 15\n",
      "ACCURACY: 85.57213930348259, n_estimator: 130, criterion: entropy, max_depth: 17\n",
      "ACCURACY: 85.5444997236042, n_estimator: 140, criterion: gini, max_depth: 11\n",
      "ACCURACY: 85.51686014372581, n_estimator: 140, criterion: gini, max_depth: 12\n",
      "ACCURACY: 85.66427123641054, n_estimator: 140, criterion: gini, max_depth: 13\n",
      "ACCURACY: 85.65505804311775, n_estimator: 140, criterion: gini, max_depth: 14\n",
      "ACCURACY: 85.58135249677538, n_estimator: 140, criterion: gini, max_depth: 15\n",
      "ACCURACY: 85.59056569006817, n_estimator: 140, criterion: entropy, max_depth: 14\n",
      "ACCURACY: 85.51686014372581, n_estimator: 140, criterion: entropy, max_depth: 15\n",
      "ACCURACY: 85.57213930348259, n_estimator: 140, criterion: entropy, max_depth: 16\n",
      "ACCURACY: 85.553712916897, n_estimator: 150, criterion: gini, max_depth: 12\n",
      "ACCURACY: 85.5444997236042, n_estimator: 150, criterion: gini, max_depth: 13\n",
      "ACCURACY: 85.63663165653216, n_estimator: 150, criterion: gini, max_depth: 14\n",
      "ACCURACY: 85.59056569006817, n_estimator: 150, criterion: gini, max_depth: 15\n",
      "ACCURACY: 85.56292611018979, n_estimator: 150, criterion: gini, max_depth: 16\n",
      "ACCURACY: 85.58135249677538, n_estimator: 150, criterion: entropy, max_depth: 12\n",
      "ACCURACY: 85.59977888336098, n_estimator: 150, criterion: entropy, max_depth: 14\n",
      "ACCURACY: 85.58135249677538, n_estimator: 150, criterion: entropy, max_depth: 15\n",
      "ACCURACY: 85.58135249677538, n_estimator: 150, criterion: entropy, max_depth: 16\n"
     ]
    },
    {
     "name": "stdout",
     "output_type": "stream",
     "text": [
      "ACCURACY: 85.50764695043303, n_estimator: 160, criterion: gini, max_depth: 10\n",
      "ACCURACY: 85.50764695043303, n_estimator: 160, criterion: gini, max_depth: 12\n",
      "ACCURACY: 85.57213930348259, n_estimator: 160, criterion: gini, max_depth: 13\n",
      "ACCURACY: 85.67348442970334, n_estimator: 160, criterion: gini, max_depth: 14\n",
      "ACCURACY: 85.59977888336098, n_estimator: 160, criterion: gini, max_depth: 15\n",
      "ACCURACY: 85.51686014372581, n_estimator: 160, criterion: gini, max_depth: 16\n",
      "ACCURACY: 85.51686014372581, n_estimator: 160, criterion: entropy, max_depth: 11\n",
      "ACCURACY: 85.59977888336098, n_estimator: 160, criterion: entropy, max_depth: 12\n",
      "ACCURACY: 85.53528653031141, n_estimator: 160, criterion: entropy, max_depth: 14\n",
      "ACCURACY: 85.52607333701862, n_estimator: 160, criterion: entropy, max_depth: 16\n",
      "ACCURACY: 85.57213930348259, n_estimator: 170, criterion: gini, max_depth: 11\n",
      "ACCURACY: 85.553712916897, n_estimator: 170, criterion: gini, max_depth: 12\n",
      "ACCURACY: 85.56292611018979, n_estimator: 170, criterion: gini, max_depth: 13\n",
      "ACCURACY: 85.553712916897, n_estimator: 170, criterion: gini, max_depth: 14\n",
      "ACCURACY: 85.58135249677538, n_estimator: 170, criterion: gini, max_depth: 15\n",
      "ACCURACY: 85.53528653031141, n_estimator: 170, criterion: entropy, max_depth: 11\n",
      "ACCURACY: 85.58135249677538, n_estimator: 170, criterion: entropy, max_depth: 12\n",
      "ACCURACY: 85.52607333701862, n_estimator: 170, criterion: entropy, max_depth: 13\n",
      "ACCURACY: 85.63663165653216, n_estimator: 170, criterion: entropy, max_depth: 14\n",
      "ACCURACY: 85.7195503961673, n_estimator: 170, criterion: entropy, max_depth: 15\n",
      "ACCURACY: 85.58135249677538, n_estimator: 170, criterion: entropy, max_depth: 16\n",
      "ACCURACY: 85.63663165653216, n_estimator: 180, criterion: gini, max_depth: 13\n",
      "ACCURACY: 85.57213930348259, n_estimator: 180, criterion: gini, max_depth: 14\n",
      "ACCURACY: 85.63663165653216, n_estimator: 180, criterion: gini, max_depth: 15\n",
      "ACCURACY: 85.56292611018979, n_estimator: 180, criterion: gini, max_depth: 16\n",
      "ACCURACY: 85.57213930348259, n_estimator: 180, criterion: entropy, max_depth: 13\n",
      "ACCURACY: 85.53528653031141, n_estimator: 180, criterion: entropy, max_depth: 14\n",
      "ACCURACY: 85.62741846323935, n_estimator: 180, criterion: entropy, max_depth: 15\n",
      "ACCURACY: 85.66427123641054, n_estimator: 180, criterion: entropy, max_depth: 16\n",
      "ACCURACY: 85.50764695043303, n_estimator: 180, criterion: entropy, max_depth: 17\n",
      "ACCURACY: 85.50764695043303, n_estimator: 180, criterion: entropy, max_depth: 19\n",
      "ACCURACY: 85.53528653031141, n_estimator: 190, criterion: gini, max_depth: 12\n",
      "ACCURACY: 85.59056569006817, n_estimator: 190, criterion: gini, max_depth: 13\n",
      "ACCURACY: 85.66427123641054, n_estimator: 190, criterion: gini, max_depth: 14\n",
      "ACCURACY: 85.58135249677538, n_estimator: 190, criterion: gini, max_depth: 15\n",
      "ACCURACY: 85.60899207665376, n_estimator: 190, criterion: gini, max_depth: 16\n",
      "ACCURACY: 85.50764695043303, n_estimator: 190, criterion: gini, max_depth: 17\n",
      "ACCURACY: 85.52607333701862, n_estimator: 190, criterion: entropy, max_depth: 13\n",
      "ACCURACY: 85.61820526994657, n_estimator: 190, criterion: entropy, max_depth: 14\n",
      "ACCURACY: 85.56292611018979, n_estimator: 190, criterion: entropy, max_depth: 15\n",
      "ACCURACY: 85.61820526994657, n_estimator: 190, criterion: entropy, max_depth: 16\n",
      "ACCURACY: 85.5444997236042, n_estimator: 190, criterion: entropy, max_depth: 17\n",
      "ACCURACY: 85.52607333701862, n_estimator: 200, criterion: gini, max_depth: 12\n",
      "ACCURACY: 85.553712916897, n_estimator: 200, criterion: gini, max_depth: 13\n",
      "ACCURACY: 85.66427123641054, n_estimator: 200, criterion: gini, max_depth: 14\n",
      "ACCURACY: 85.65505804311775, n_estimator: 200, criterion: gini, max_depth: 15\n",
      "ACCURACY: 85.50764695043303, n_estimator: 200, criterion: entropy, max_depth: 12\n",
      "ACCURACY: 85.62741846323935, n_estimator: 200, criterion: entropy, max_depth: 14\n",
      "ACCURACY: 85.58135249677538, n_estimator: 200, criterion: entropy, max_depth: 15\n",
      "ACCURACY: 85.59977888336098, n_estimator: 200, criterion: entropy, max_depth: 16\n",
      "ACCURACY: 85.57213930348259, n_estimator: 200, criterion: entropy, max_depth: 17\n",
      "ACCURACY: 85.5444997236042, n_estimator: 200, criterion: entropy, max_depth: 18\n"
     ]
    }
   ],
   "source": [
    "print(\"Loading...\")\n",
    "\n",
    "for x in range(50, 201, 10):\n",
    "    for y in [\"gini\", \"entropy\"]:\n",
    "        for i in [None, 1, 2, 3, 4, 5, 6, 7, 8, 9, 10, 11, 12, 13, 14, 15, 16, 17, 18, 19, 20]:\n",
    "                \n",
    "            tree = RandomForestClassifier(n_estimators = x, \n",
    "                                          criterion = y, \n",
    "                                          max_depth = i)\n",
    "                \n",
    "            lr_ = tree.fit(train_data.values, train_labels.values.ravel())\n",
    "            y_pred = lr_.predict(test_data.values)\n",
    "                \n",
    "            from sklearn.metrics import accuracy_score\n",
    "                \n",
    "            ac = accuracy_score(y_pred = y_pred, y_true = test_labels)\n",
    "                \n",
    "            if ac * 100 > 85.5:\n",
    "                \n",
    "                print(\"ACCURACY: {}, n_estimator: {}, criterion: {}, max_depth: {}\".format(ac * 100, x, y, i))"
   ]
  },
  {
   "cell_type": "code",
   "execution_count": null,
   "id": "59794e0a",
   "metadata": {},
   "outputs": [],
   "source": []
  },
  {
   "cell_type": "markdown",
   "id": "6a356a86",
   "metadata": {},
   "source": [
    "----------"
   ]
  },
  {
   "cell_type": "markdown",
   "id": "9acbf4d9",
   "metadata": {},
   "source": [
    "## Extra Trees\n",
    "-----"
   ]
  },
  {
   "cell_type": "code",
   "execution_count": 204,
   "id": "82f6d3ed",
   "metadata": {},
   "outputs": [],
   "source": [
    "from sklearn.ensemble import ExtraTreesClassifier"
   ]
  },
  {
   "cell_type": "code",
   "execution_count": 205,
   "id": "41fc8a9c",
   "metadata": {
    "scrolled": true
   },
   "outputs": [
    {
     "name": "stdout",
     "output_type": "stream",
     "text": [
      "Loading...\n"
     ]
    },
    {
     "ename": "TypeError",
     "evalue": "'<' not supported between instances of 'float' and 'range'",
     "output_type": "error",
     "traceback": [
      "\u001b[1;31m---------------------------------------------------------------------------\u001b[0m",
      "\u001b[1;31mTypeError\u001b[0m                                 Traceback (most recent call last)",
      "\u001b[1;32m<ipython-input-205-be217eac819d>\u001b[0m in \u001b[0;36m<module>\u001b[1;34m\u001b[0m\n\u001b[0;32m      9\u001b[0m                                         max_depth = i)\n\u001b[0;32m     10\u001b[0m \u001b[1;33m\u001b[0m\u001b[0m\n\u001b[1;32m---> 11\u001b[1;33m             \u001b[0mlr_\u001b[0m \u001b[1;33m=\u001b[0m \u001b[0mtree\u001b[0m\u001b[1;33m.\u001b[0m\u001b[0mfit\u001b[0m\u001b[1;33m(\u001b[0m\u001b[0mtrain_data\u001b[0m\u001b[1;33m.\u001b[0m\u001b[0mvalues\u001b[0m\u001b[1;33m,\u001b[0m \u001b[0mtrain_labels\u001b[0m\u001b[1;33m.\u001b[0m\u001b[0mvalues\u001b[0m\u001b[1;33m.\u001b[0m\u001b[0mravel\u001b[0m\u001b[1;33m(\u001b[0m\u001b[1;33m)\u001b[0m\u001b[1;33m)\u001b[0m\u001b[1;33m\u001b[0m\u001b[1;33m\u001b[0m\u001b[0m\n\u001b[0m\u001b[0;32m     12\u001b[0m             \u001b[0my_pred\u001b[0m \u001b[1;33m=\u001b[0m \u001b[0mlr_\u001b[0m\u001b[1;33m.\u001b[0m\u001b[0mpredict\u001b[0m\u001b[1;33m(\u001b[0m\u001b[0mtest_data\u001b[0m\u001b[1;33m.\u001b[0m\u001b[0mvalues\u001b[0m\u001b[1;33m)\u001b[0m\u001b[1;33m\u001b[0m\u001b[1;33m\u001b[0m\u001b[0m\n\u001b[0;32m     13\u001b[0m \u001b[1;33m\u001b[0m\u001b[0m\n",
      "\u001b[1;32m~\\anaconda3\\envs\\data science\\lib\\site-packages\\sklearn\\ensemble\\_forest.py\u001b[0m in \u001b[0;36mfit\u001b[1;34m(self, X, y, sample_weight)\u001b[0m\n\u001b[0;32m    385\u001b[0m             \u001b[1;31m# parallel_backend contexts set at a higher level,\u001b[0m\u001b[1;33m\u001b[0m\u001b[1;33m\u001b[0m\u001b[1;33m\u001b[0m\u001b[0m\n\u001b[0;32m    386\u001b[0m             \u001b[1;31m# since correctness does not rely on using threads.\u001b[0m\u001b[1;33m\u001b[0m\u001b[1;33m\u001b[0m\u001b[1;33m\u001b[0m\u001b[0m\n\u001b[1;32m--> 387\u001b[1;33m             trees = Parallel(n_jobs=self.n_jobs, verbose=self.verbose,\n\u001b[0m\u001b[0;32m    388\u001b[0m                              \u001b[1;33m**\u001b[0m\u001b[0m_joblib_parallel_args\u001b[0m\u001b[1;33m(\u001b[0m\u001b[0mprefer\u001b[0m\u001b[1;33m=\u001b[0m\u001b[1;34m'threads'\u001b[0m\u001b[1;33m)\u001b[0m\u001b[1;33m)\u001b[0m\u001b[1;33m(\u001b[0m\u001b[1;33m\u001b[0m\u001b[1;33m\u001b[0m\u001b[0m\n\u001b[0;32m    389\u001b[0m                 delayed(_parallel_build_trees)(\n",
      "\u001b[1;32m~\\anaconda3\\envs\\data science\\lib\\site-packages\\joblib\\parallel.py\u001b[0m in \u001b[0;36m__call__\u001b[1;34m(self, iterable)\u001b[0m\n\u001b[0;32m   1039\u001b[0m             \u001b[1;31m# remaining jobs.\u001b[0m\u001b[1;33m\u001b[0m\u001b[1;33m\u001b[0m\u001b[1;33m\u001b[0m\u001b[0m\n\u001b[0;32m   1040\u001b[0m             \u001b[0mself\u001b[0m\u001b[1;33m.\u001b[0m\u001b[0m_iterating\u001b[0m \u001b[1;33m=\u001b[0m \u001b[1;32mFalse\u001b[0m\u001b[1;33m\u001b[0m\u001b[1;33m\u001b[0m\u001b[0m\n\u001b[1;32m-> 1041\u001b[1;33m             \u001b[1;32mif\u001b[0m \u001b[0mself\u001b[0m\u001b[1;33m.\u001b[0m\u001b[0mdispatch_one_batch\u001b[0m\u001b[1;33m(\u001b[0m\u001b[0miterator\u001b[0m\u001b[1;33m)\u001b[0m\u001b[1;33m:\u001b[0m\u001b[1;33m\u001b[0m\u001b[1;33m\u001b[0m\u001b[0m\n\u001b[0m\u001b[0;32m   1042\u001b[0m                 \u001b[0mself\u001b[0m\u001b[1;33m.\u001b[0m\u001b[0m_iterating\u001b[0m \u001b[1;33m=\u001b[0m \u001b[0mself\u001b[0m\u001b[1;33m.\u001b[0m\u001b[0m_original_iterator\u001b[0m \u001b[1;32mis\u001b[0m \u001b[1;32mnot\u001b[0m \u001b[1;32mNone\u001b[0m\u001b[1;33m\u001b[0m\u001b[1;33m\u001b[0m\u001b[0m\n\u001b[0;32m   1043\u001b[0m \u001b[1;33m\u001b[0m\u001b[0m\n",
      "\u001b[1;32m~\\anaconda3\\envs\\data science\\lib\\site-packages\\joblib\\parallel.py\u001b[0m in \u001b[0;36mdispatch_one_batch\u001b[1;34m(self, iterator)\u001b[0m\n\u001b[0;32m    857\u001b[0m                 \u001b[1;32mreturn\u001b[0m \u001b[1;32mFalse\u001b[0m\u001b[1;33m\u001b[0m\u001b[1;33m\u001b[0m\u001b[0m\n\u001b[0;32m    858\u001b[0m             \u001b[1;32melse\u001b[0m\u001b[1;33m:\u001b[0m\u001b[1;33m\u001b[0m\u001b[1;33m\u001b[0m\u001b[0m\n\u001b[1;32m--> 859\u001b[1;33m                 \u001b[0mself\u001b[0m\u001b[1;33m.\u001b[0m\u001b[0m_dispatch\u001b[0m\u001b[1;33m(\u001b[0m\u001b[0mtasks\u001b[0m\u001b[1;33m)\u001b[0m\u001b[1;33m\u001b[0m\u001b[1;33m\u001b[0m\u001b[0m\n\u001b[0m\u001b[0;32m    860\u001b[0m                 \u001b[1;32mreturn\u001b[0m \u001b[1;32mTrue\u001b[0m\u001b[1;33m\u001b[0m\u001b[1;33m\u001b[0m\u001b[0m\n\u001b[0;32m    861\u001b[0m \u001b[1;33m\u001b[0m\u001b[0m\n",
      "\u001b[1;32m~\\anaconda3\\envs\\data science\\lib\\site-packages\\joblib\\parallel.py\u001b[0m in \u001b[0;36m_dispatch\u001b[1;34m(self, batch)\u001b[0m\n\u001b[0;32m    775\u001b[0m         \u001b[1;32mwith\u001b[0m \u001b[0mself\u001b[0m\u001b[1;33m.\u001b[0m\u001b[0m_lock\u001b[0m\u001b[1;33m:\u001b[0m\u001b[1;33m\u001b[0m\u001b[1;33m\u001b[0m\u001b[0m\n\u001b[0;32m    776\u001b[0m             \u001b[0mjob_idx\u001b[0m \u001b[1;33m=\u001b[0m \u001b[0mlen\u001b[0m\u001b[1;33m(\u001b[0m\u001b[0mself\u001b[0m\u001b[1;33m.\u001b[0m\u001b[0m_jobs\u001b[0m\u001b[1;33m)\u001b[0m\u001b[1;33m\u001b[0m\u001b[1;33m\u001b[0m\u001b[0m\n\u001b[1;32m--> 777\u001b[1;33m             \u001b[0mjob\u001b[0m \u001b[1;33m=\u001b[0m \u001b[0mself\u001b[0m\u001b[1;33m.\u001b[0m\u001b[0m_backend\u001b[0m\u001b[1;33m.\u001b[0m\u001b[0mapply_async\u001b[0m\u001b[1;33m(\u001b[0m\u001b[0mbatch\u001b[0m\u001b[1;33m,\u001b[0m \u001b[0mcallback\u001b[0m\u001b[1;33m=\u001b[0m\u001b[0mcb\u001b[0m\u001b[1;33m)\u001b[0m\u001b[1;33m\u001b[0m\u001b[1;33m\u001b[0m\u001b[0m\n\u001b[0m\u001b[0;32m    778\u001b[0m             \u001b[1;31m# A job can complete so quickly than its callback is\u001b[0m\u001b[1;33m\u001b[0m\u001b[1;33m\u001b[0m\u001b[1;33m\u001b[0m\u001b[0m\n\u001b[0;32m    779\u001b[0m             \u001b[1;31m# called before we get here, causing self._jobs to\u001b[0m\u001b[1;33m\u001b[0m\u001b[1;33m\u001b[0m\u001b[1;33m\u001b[0m\u001b[0m\n",
      "\u001b[1;32m~\\anaconda3\\envs\\data science\\lib\\site-packages\\joblib\\_parallel_backends.py\u001b[0m in \u001b[0;36mapply_async\u001b[1;34m(self, func, callback)\u001b[0m\n\u001b[0;32m    206\u001b[0m     \u001b[1;32mdef\u001b[0m \u001b[0mapply_async\u001b[0m\u001b[1;33m(\u001b[0m\u001b[0mself\u001b[0m\u001b[1;33m,\u001b[0m \u001b[0mfunc\u001b[0m\u001b[1;33m,\u001b[0m \u001b[0mcallback\u001b[0m\u001b[1;33m=\u001b[0m\u001b[1;32mNone\u001b[0m\u001b[1;33m)\u001b[0m\u001b[1;33m:\u001b[0m\u001b[1;33m\u001b[0m\u001b[1;33m\u001b[0m\u001b[0m\n\u001b[0;32m    207\u001b[0m         \u001b[1;34m\"\"\"Schedule a func to be run\"\"\"\u001b[0m\u001b[1;33m\u001b[0m\u001b[1;33m\u001b[0m\u001b[0m\n\u001b[1;32m--> 208\u001b[1;33m         \u001b[0mresult\u001b[0m \u001b[1;33m=\u001b[0m \u001b[0mImmediateResult\u001b[0m\u001b[1;33m(\u001b[0m\u001b[0mfunc\u001b[0m\u001b[1;33m)\u001b[0m\u001b[1;33m\u001b[0m\u001b[1;33m\u001b[0m\u001b[0m\n\u001b[0m\u001b[0;32m    209\u001b[0m         \u001b[1;32mif\u001b[0m \u001b[0mcallback\u001b[0m\u001b[1;33m:\u001b[0m\u001b[1;33m\u001b[0m\u001b[1;33m\u001b[0m\u001b[0m\n\u001b[0;32m    210\u001b[0m             \u001b[0mcallback\u001b[0m\u001b[1;33m(\u001b[0m\u001b[0mresult\u001b[0m\u001b[1;33m)\u001b[0m\u001b[1;33m\u001b[0m\u001b[1;33m\u001b[0m\u001b[0m\n",
      "\u001b[1;32m~\\anaconda3\\envs\\data science\\lib\\site-packages\\joblib\\_parallel_backends.py\u001b[0m in \u001b[0;36m__init__\u001b[1;34m(self, batch)\u001b[0m\n\u001b[0;32m    570\u001b[0m         \u001b[1;31m# Don't delay the application, to avoid keeping the input\u001b[0m\u001b[1;33m\u001b[0m\u001b[1;33m\u001b[0m\u001b[1;33m\u001b[0m\u001b[0m\n\u001b[0;32m    571\u001b[0m         \u001b[1;31m# arguments in memory\u001b[0m\u001b[1;33m\u001b[0m\u001b[1;33m\u001b[0m\u001b[1;33m\u001b[0m\u001b[0m\n\u001b[1;32m--> 572\u001b[1;33m         \u001b[0mself\u001b[0m\u001b[1;33m.\u001b[0m\u001b[0mresults\u001b[0m \u001b[1;33m=\u001b[0m \u001b[0mbatch\u001b[0m\u001b[1;33m(\u001b[0m\u001b[1;33m)\u001b[0m\u001b[1;33m\u001b[0m\u001b[1;33m\u001b[0m\u001b[0m\n\u001b[0m\u001b[0;32m    573\u001b[0m \u001b[1;33m\u001b[0m\u001b[0m\n\u001b[0;32m    574\u001b[0m     \u001b[1;32mdef\u001b[0m \u001b[0mget\u001b[0m\u001b[1;33m(\u001b[0m\u001b[0mself\u001b[0m\u001b[1;33m)\u001b[0m\u001b[1;33m:\u001b[0m\u001b[1;33m\u001b[0m\u001b[1;33m\u001b[0m\u001b[0m\n",
      "\u001b[1;32m~\\anaconda3\\envs\\data science\\lib\\site-packages\\joblib\\parallel.py\u001b[0m in \u001b[0;36m__call__\u001b[1;34m(self)\u001b[0m\n\u001b[0;32m    260\u001b[0m         \u001b[1;31m# change the default number of processes to -1\u001b[0m\u001b[1;33m\u001b[0m\u001b[1;33m\u001b[0m\u001b[1;33m\u001b[0m\u001b[0m\n\u001b[0;32m    261\u001b[0m         \u001b[1;32mwith\u001b[0m \u001b[0mparallel_backend\u001b[0m\u001b[1;33m(\u001b[0m\u001b[0mself\u001b[0m\u001b[1;33m.\u001b[0m\u001b[0m_backend\u001b[0m\u001b[1;33m,\u001b[0m \u001b[0mn_jobs\u001b[0m\u001b[1;33m=\u001b[0m\u001b[0mself\u001b[0m\u001b[1;33m.\u001b[0m\u001b[0m_n_jobs\u001b[0m\u001b[1;33m)\u001b[0m\u001b[1;33m:\u001b[0m\u001b[1;33m\u001b[0m\u001b[1;33m\u001b[0m\u001b[0m\n\u001b[1;32m--> 262\u001b[1;33m             return [func(*args, **kwargs)\n\u001b[0m\u001b[0;32m    263\u001b[0m                     for func, args, kwargs in self.items]\n\u001b[0;32m    264\u001b[0m \u001b[1;33m\u001b[0m\u001b[0m\n",
      "\u001b[1;32m~\\anaconda3\\envs\\data science\\lib\\site-packages\\joblib\\parallel.py\u001b[0m in \u001b[0;36m<listcomp>\u001b[1;34m(.0)\u001b[0m\n\u001b[0;32m    260\u001b[0m         \u001b[1;31m# change the default number of processes to -1\u001b[0m\u001b[1;33m\u001b[0m\u001b[1;33m\u001b[0m\u001b[1;33m\u001b[0m\u001b[0m\n\u001b[0;32m    261\u001b[0m         \u001b[1;32mwith\u001b[0m \u001b[0mparallel_backend\u001b[0m\u001b[1;33m(\u001b[0m\u001b[0mself\u001b[0m\u001b[1;33m.\u001b[0m\u001b[0m_backend\u001b[0m\u001b[1;33m,\u001b[0m \u001b[0mn_jobs\u001b[0m\u001b[1;33m=\u001b[0m\u001b[0mself\u001b[0m\u001b[1;33m.\u001b[0m\u001b[0m_n_jobs\u001b[0m\u001b[1;33m)\u001b[0m\u001b[1;33m:\u001b[0m\u001b[1;33m\u001b[0m\u001b[1;33m\u001b[0m\u001b[0m\n\u001b[1;32m--> 262\u001b[1;33m             return [func(*args, **kwargs)\n\u001b[0m\u001b[0;32m    263\u001b[0m                     for func, args, kwargs in self.items]\n\u001b[0;32m    264\u001b[0m \u001b[1;33m\u001b[0m\u001b[0m\n",
      "\u001b[1;32m~\\anaconda3\\envs\\data science\\lib\\site-packages\\sklearn\\utils\\fixes.py\u001b[0m in \u001b[0;36m__call__\u001b[1;34m(self, *args, **kwargs)\u001b[0m\n\u001b[0;32m    220\u001b[0m     \u001b[1;32mdef\u001b[0m \u001b[0m__call__\u001b[0m\u001b[1;33m(\u001b[0m\u001b[0mself\u001b[0m\u001b[1;33m,\u001b[0m \u001b[1;33m*\u001b[0m\u001b[0margs\u001b[0m\u001b[1;33m,\u001b[0m \u001b[1;33m**\u001b[0m\u001b[0mkwargs\u001b[0m\u001b[1;33m)\u001b[0m\u001b[1;33m:\u001b[0m\u001b[1;33m\u001b[0m\u001b[1;33m\u001b[0m\u001b[0m\n\u001b[0;32m    221\u001b[0m         \u001b[1;32mwith\u001b[0m \u001b[0mconfig_context\u001b[0m\u001b[1;33m(\u001b[0m\u001b[1;33m**\u001b[0m\u001b[0mself\u001b[0m\u001b[1;33m.\u001b[0m\u001b[0mconfig\u001b[0m\u001b[1;33m)\u001b[0m\u001b[1;33m:\u001b[0m\u001b[1;33m\u001b[0m\u001b[1;33m\u001b[0m\u001b[0m\n\u001b[1;32m--> 222\u001b[1;33m             \u001b[1;32mreturn\u001b[0m \u001b[0mself\u001b[0m\u001b[1;33m.\u001b[0m\u001b[0mfunction\u001b[0m\u001b[1;33m(\u001b[0m\u001b[1;33m*\u001b[0m\u001b[0margs\u001b[0m\u001b[1;33m,\u001b[0m \u001b[1;33m**\u001b[0m\u001b[0mkwargs\u001b[0m\u001b[1;33m)\u001b[0m\u001b[1;33m\u001b[0m\u001b[1;33m\u001b[0m\u001b[0m\n\u001b[0m",
      "\u001b[1;32m~\\anaconda3\\envs\\data science\\lib\\site-packages\\sklearn\\ensemble\\_forest.py\u001b[0m in \u001b[0;36m_parallel_build_trees\u001b[1;34m(tree, forest, X, y, sample_weight, tree_idx, n_trees, verbose, class_weight, n_samples_bootstrap)\u001b[0m\n\u001b[0;32m    169\u001b[0m         \u001b[0mtree\u001b[0m\u001b[1;33m.\u001b[0m\u001b[0mfit\u001b[0m\u001b[1;33m(\u001b[0m\u001b[0mX\u001b[0m\u001b[1;33m,\u001b[0m \u001b[0my\u001b[0m\u001b[1;33m,\u001b[0m \u001b[0msample_weight\u001b[0m\u001b[1;33m=\u001b[0m\u001b[0mcurr_sample_weight\u001b[0m\u001b[1;33m,\u001b[0m \u001b[0mcheck_input\u001b[0m\u001b[1;33m=\u001b[0m\u001b[1;32mFalse\u001b[0m\u001b[1;33m)\u001b[0m\u001b[1;33m\u001b[0m\u001b[1;33m\u001b[0m\u001b[0m\n\u001b[0;32m    170\u001b[0m     \u001b[1;32melse\u001b[0m\u001b[1;33m:\u001b[0m\u001b[1;33m\u001b[0m\u001b[1;33m\u001b[0m\u001b[0m\n\u001b[1;32m--> 171\u001b[1;33m         \u001b[0mtree\u001b[0m\u001b[1;33m.\u001b[0m\u001b[0mfit\u001b[0m\u001b[1;33m(\u001b[0m\u001b[0mX\u001b[0m\u001b[1;33m,\u001b[0m \u001b[0my\u001b[0m\u001b[1;33m,\u001b[0m \u001b[0msample_weight\u001b[0m\u001b[1;33m=\u001b[0m\u001b[0msample_weight\u001b[0m\u001b[1;33m,\u001b[0m \u001b[0mcheck_input\u001b[0m\u001b[1;33m=\u001b[0m\u001b[1;32mFalse\u001b[0m\u001b[1;33m)\u001b[0m\u001b[1;33m\u001b[0m\u001b[1;33m\u001b[0m\u001b[0m\n\u001b[0m\u001b[0;32m    172\u001b[0m \u001b[1;33m\u001b[0m\u001b[0m\n\u001b[0;32m    173\u001b[0m     \u001b[1;32mreturn\u001b[0m \u001b[0mtree\u001b[0m\u001b[1;33m\u001b[0m\u001b[1;33m\u001b[0m\u001b[0m\n",
      "\u001b[1;32m~\\anaconda3\\envs\\data science\\lib\\site-packages\\sklearn\\tree\\_classes.py\u001b[0m in \u001b[0;36mfit\u001b[1;34m(self, X, y, sample_weight, check_input, X_idx_sorted)\u001b[0m\n\u001b[0;32m    901\u001b[0m         \"\"\"\n\u001b[0;32m    902\u001b[0m \u001b[1;33m\u001b[0m\u001b[0m\n\u001b[1;32m--> 903\u001b[1;33m         super().fit(\n\u001b[0m\u001b[0;32m    904\u001b[0m             \u001b[0mX\u001b[0m\u001b[1;33m,\u001b[0m \u001b[0my\u001b[0m\u001b[1;33m,\u001b[0m\u001b[1;33m\u001b[0m\u001b[1;33m\u001b[0m\u001b[0m\n\u001b[0;32m    905\u001b[0m             \u001b[0msample_weight\u001b[0m\u001b[1;33m=\u001b[0m\u001b[0msample_weight\u001b[0m\u001b[1;33m,\u001b[0m\u001b[1;33m\u001b[0m\u001b[1;33m\u001b[0m\u001b[0m\n",
      "\u001b[1;32m~\\anaconda3\\envs\\data science\\lib\\site-packages\\sklearn\\tree\\_classes.py\u001b[0m in \u001b[0;36mfit\u001b[1;34m(self, X, y, sample_weight, check_input, X_idx_sorted)\u001b[0m\n\u001b[0;32m    242\u001b[0m             \u001b[0mmin_samples_split\u001b[0m \u001b[1;33m=\u001b[0m \u001b[0mself\u001b[0m\u001b[1;33m.\u001b[0m\u001b[0mmin_samples_split\u001b[0m\u001b[1;33m\u001b[0m\u001b[1;33m\u001b[0m\u001b[0m\n\u001b[0;32m    243\u001b[0m         \u001b[1;32melse\u001b[0m\u001b[1;33m:\u001b[0m  \u001b[1;31m# float\u001b[0m\u001b[1;33m\u001b[0m\u001b[1;33m\u001b[0m\u001b[0m\n\u001b[1;32m--> 244\u001b[1;33m             \u001b[1;32mif\u001b[0m \u001b[1;32mnot\u001b[0m \u001b[1;36m0.\u001b[0m \u001b[1;33m<\u001b[0m \u001b[0mself\u001b[0m\u001b[1;33m.\u001b[0m\u001b[0mmin_samples_split\u001b[0m \u001b[1;33m<=\u001b[0m \u001b[1;36m1.\u001b[0m\u001b[1;33m:\u001b[0m\u001b[1;33m\u001b[0m\u001b[1;33m\u001b[0m\u001b[0m\n\u001b[0m\u001b[0;32m    245\u001b[0m                 raise ValueError(\"min_samples_split must be an integer \"\n\u001b[0;32m    246\u001b[0m                                  \u001b[1;34m\"greater than 1 or a float in (0.0, 1.0]; \"\u001b[0m\u001b[1;33m\u001b[0m\u001b[1;33m\u001b[0m\u001b[0m\n",
      "\u001b[1;31mTypeError\u001b[0m: '<' not supported between instances of 'float' and 'range'"
     ]
    }
   ],
   "source": [
    "print(\"Loading...\")\n",
    "\n",
    "for x in range(5, 60, 15):\n",
    "    for y in [range(1, 16)]:\n",
    "        for i in [None, 1, 2, 3, 4, 5, 6, 7, 8, 9, 10, 11, 12, 13, 14, 15, 16, 17, 18, 19, 20]:\n",
    "                \n",
    "            tree = ExtraTreesClassifier(n_estimators = x, \n",
    "                                        min_samples_split = y, \n",
    "                                        max_depth = i)\n",
    "                \n",
    "            lr_ = tree.fit(train_data.values, train_labels.values.ravel())\n",
    "            y_pred = lr_.predict(test_data.values)\n",
    "                \n",
    "            from sklearn.metrics import accuracy_score\n",
    "                \n",
    "            ac = accuracy_score(y_pred = y_pred, y_true = test_labels)\n",
    "                \n",
    "            if ac * 100 > 85.5:\n",
    "                print(\"ACCURACY: {}, n_estimator: {}, min_samples_split: {}, max_depth: {}\".format(ac * 100, x, y, i))\n",
    "            else:\n",
    "                print(\"None\")"
   ]
  },
  {
   "cell_type": "code",
   "execution_count": null,
   "id": "af883de2",
   "metadata": {},
   "outputs": [],
   "source": []
  },
  {
   "cell_type": "markdown",
   "id": "b8153be5",
   "metadata": {},
   "source": [
    "----------"
   ]
  },
  {
   "cell_type": "markdown",
   "id": "3da9be4f",
   "metadata": {},
   "source": [
    "## AdaBoost\n",
    "------"
   ]
  },
  {
   "cell_type": "code",
   "execution_count": 208,
   "id": "379b31cb",
   "metadata": {},
   "outputs": [],
   "source": [
    "from sklearn.ensemble import AdaBoostClassifier"
   ]
  },
  {
   "cell_type": "code",
   "execution_count": 213,
   "id": "cef565be",
   "metadata": {
    "scrolled": false
   },
   "outputs": [
    {
     "name": "stdout",
     "output_type": "stream",
     "text": [
      "Loading...\n",
      "ACCURACY: 85.07462686567165, n_estimator: 40, learning_rate: 1.0\n",
      "ACCURACY: 85.42472821079787, n_estimator: 40, learning_rate: 1.5\n",
      "ACCURACY: 85.33259627786991, n_estimator: 50, learning_rate: 1.0\n",
      "ACCURACY: 85.58135249677538, n_estimator: 50, learning_rate: 1.5\n",
      "ACCURACY: 85.10226644555003, n_estimator: 60, learning_rate: 0.5\n",
      "ACCURACY: 85.3510226644555, n_estimator: 60, learning_rate: 1.0\n",
      "ACCURACY: 85.64584484982495, n_estimator: 60, learning_rate: 1.5\n",
      "ACCURACY: 85.22203795835637, n_estimator: 70, learning_rate: 0.5\n",
      "ACCURACY: 85.3510226644555, n_estimator: 70, learning_rate: 1.0\n",
      "ACCURACY: 85.76561636263129, n_estimator: 70, learning_rate: 1.5\n",
      "ACCURACY: 85.20361157177078, n_estimator: 80, learning_rate: 0.5\n",
      "ACCURACY: 85.3602358577483, n_estimator: 80, learning_rate: 1.0\n",
      "ACCURACY: 85.85774829555925, n_estimator: 80, learning_rate: 1.5\n",
      "ACCURACY: 85.18518518518519, n_estimator: 90, learning_rate: 0.5\n",
      "ACCURACY: 85.45236779067625, n_estimator: 90, learning_rate: 1.0\n",
      "ACCURACY: 85.76561636263129, n_estimator: 90, learning_rate: 1.5\n"
     ]
    }
   ],
   "source": [
    "print(\"Loading...\")\n",
    "\n",
    "for x in range(10, 100, 10):\n",
    "        for i in [0.5, 1., 1.5, 2., 2.5]:\n",
    "                \n",
    "            tree = AdaBoostClassifier(n_estimators = x, \n",
    "                                        learning_rate = i)\n",
    "                \n",
    "            lr_ = tree.fit(train_data.values, train_labels.values.ravel())\n",
    "            y_pred = lr_.predict(test_data.values)\n",
    "                \n",
    "            from sklearn.metrics import accuracy_score\n",
    "                \n",
    "            ac = accuracy_score(y_pred = y_pred, y_true = test_labels)\n",
    "                \n",
    "            if ac * 100 > 85:\n",
    "                print(\"ACCURACY: {}, n_estimator: {}, learning_rate: {}\".format(ac * 100, x, i))\n",
    "            else:\n",
    "                pass"
   ]
  },
  {
   "cell_type": "code",
   "execution_count": null,
   "id": "137ada34",
   "metadata": {},
   "outputs": [],
   "source": []
  },
  {
   "cell_type": "markdown",
   "id": "7b6c8334",
   "metadata": {},
   "source": [
    "---------------"
   ]
  },
  {
   "cell_type": "markdown",
   "id": "04697120",
   "metadata": {},
   "source": [
    "## Gradient Boosting\n",
    "-----------"
   ]
  },
  {
   "cell_type": "code",
   "execution_count": 214,
   "id": "1e3b1b2d",
   "metadata": {},
   "outputs": [],
   "source": [
    "from sklearn.ensemble import GradientBoostingClassifier"
   ]
  },
  {
   "cell_type": "code",
   "execution_count": 218,
   "id": "7a3de53b",
   "metadata": {
    "scrolled": true
   },
   "outputs": [
    {
     "name": "stdout",
     "output_type": "stream",
     "text": [
      "Loading...\n",
      "ACCURACY: 85.85774829555925, n_estimator: 50, learing_rate: 0.5, max_depth: 2\n",
      "ACCURACY: 86.06043854800075, n_estimator: 50, learing_rate: 0.5, max_depth: 3\n",
      "ACCURACY: 85.81168232909526, n_estimator: 50, learing_rate: 0.5, max_depth: 4\n",
      "ACCURACY: 86.1433572876359, n_estimator: 50, learing_rate: 1, max_depth: 2\n",
      "ACCURACY: 85.71033720287453, n_estimator: 50, learing_rate: 1, max_depth: 3\n",
      "ACCURACY: 86.06965174129353, n_estimator: 60, learing_rate: 0.5, max_depth: 2\n",
      "ACCURACY: 85.95909342177998, n_estimator: 60, learing_rate: 0.5, max_depth: 3\n",
      "ACCURACY: 85.65505804311775, n_estimator: 60, learing_rate: 0.5, max_depth: 4\n",
      "ACCURACY: 85.9314538419016, n_estimator: 60, learing_rate: 1, max_depth: 2\n",
      "ACCURACY: 85.7471899760457, n_estimator: 60, learing_rate: 1, max_depth: 3\n",
      "ACCURACY: 85.96830661507279, n_estimator: 70, learing_rate: 0.5, max_depth: 2\n",
      "ACCURACY: 85.98673300165838, n_estimator: 70, learing_rate: 0.5, max_depth: 3\n",
      "ACCURACY: 85.66427123641054, n_estimator: 70, learing_rate: 0.5, max_depth: 4\n",
      "ACCURACY: 85.9498802284872, n_estimator: 70, learing_rate: 1, max_depth: 2\n",
      "ACCURACY: 85.63663165653216, n_estimator: 70, learing_rate: 1, max_depth: 3\n",
      "ACCURACY: 86.1249309010503, n_estimator: 80, learing_rate: 0.5, max_depth: 2\n",
      "ACCURACY: 86.06043854800075, n_estimator: 80, learing_rate: 0.5, max_depth: 3\n",
      "ACCURACY: 85.63663165653216, n_estimator: 80, learing_rate: 0.5, max_depth: 4\n",
      "ACCURACY: 85.9314538419016, n_estimator: 80, learing_rate: 1, max_depth: 2\n",
      "ACCURACY: 85.60899207665376, n_estimator: 80, learing_rate: 1, max_depth: 3\n",
      "ACCURACY: 86.17099686751428, n_estimator: 90, learing_rate: 0.5, max_depth: 2\n",
      "ACCURACY: 86.02358577482956, n_estimator: 90, learing_rate: 0.5, max_depth: 3\n",
      "ACCURACY: 85.61820526994657, n_estimator: 90, learing_rate: 0.5, max_depth: 4\n",
      "ACCURACY: 85.81168232909526, n_estimator: 90, learing_rate: 1, max_depth: 2\n",
      "ACCURACY: 85.59977888336098, n_estimator: 90, learing_rate: 1, max_depth: 3\n"
     ]
    }
   ],
   "source": [
    "print(\"Loading...\")\n",
    "\n",
    "for x in range(50, 100, 10):\n",
    "    for y in [0.5, 1, 1.5, 2]:\n",
    "        for i in [1, 2, 3, 4, 5, 6, 7, 8, 9, 10]:\n",
    "                \n",
    "            tree = GradientBoostingClassifier(n_estimators = x, \n",
    "                                              learning_rate = y,\n",
    "                                              max_depth = i)\n",
    "                \n",
    "            lr_ = tree.fit(train_data.values, train_labels.values.ravel())\n",
    "            y_pred = lr_.predict(test_data.values)\n",
    "                \n",
    "            from sklearn.metrics import accuracy_score\n",
    "                \n",
    "            ac = accuracy_score(y_pred = y_pred, y_true = test_labels)\n",
    "                \n",
    "            if ac * 100 > 85.5:\n",
    "                print(\"ACCURACY: {}, n_estimator: {}, learing_rate: {}, max_depth: {}\".format(ac * 100, x, y, i))\n",
    "            else:\n",
    "                pass"
   ]
  },
  {
   "cell_type": "code",
   "execution_count": null,
   "id": "be0b6ac3",
   "metadata": {},
   "outputs": [],
   "source": []
  },
  {
   "cell_type": "markdown",
   "id": "d4a49ead",
   "metadata": {},
   "source": [
    "-----------------"
   ]
  },
  {
   "cell_type": "markdown",
   "id": "866d4e88",
   "metadata": {},
   "source": [
    "## XGBoost\n",
    "----------"
   ]
  },
  {
   "cell_type": "code",
   "execution_count": 219,
   "id": "0b7097da",
   "metadata": {},
   "outputs": [],
   "source": [
    "from xgboost import XGBClassifier"
   ]
  },
  {
   "cell_type": "code",
   "execution_count": 221,
   "id": "c4b0b880",
   "metadata": {},
   "outputs": [
    {
     "name": "stdout",
     "output_type": "stream",
     "text": [
      "[00:40:12] WARNING: ..\\src\\learner.cc:1061: Starting in XGBoost 1.3.0, the default evaluation metric used with the objective 'binary:logistic' was changed from 'error' to 'logloss'. Explicitly set eval_metric if you'd like to restore the old behavior.\n",
      "ACCURACY: 86.10650451446472\n"
     ]
    }
   ],
   "source": [
    "xgboost = XGBClassifier()\n",
    "xgboost.fit(train_data, train_labels)\n",
    "y_pred = xgboost.predict(test_data)\n",
    "\n",
    "from sklearn.metrics import accuracy_score\n",
    "\n",
    "ac = accuracy_score(y_true = test_labels, y_pred = y_pred)\n",
    "\n",
    "if ac * 100 > 85:\n",
    "    print(\"ACCURACY: {}\".format(ac * 100))\n",
    "else:\n",
    "    print(\"None\")"
   ]
  },
  {
   "cell_type": "code",
   "execution_count": null,
   "id": "d8edb10a",
   "metadata": {},
   "outputs": [],
   "source": []
  }
 ],
 "metadata": {
  "kernelspec": {
   "display_name": "Python 3",
   "language": "python",
   "name": "python3"
  },
  "language_info": {
   "codemirror_mode": {
    "name": "ipython",
    "version": 3
   },
   "file_extension": ".py",
   "mimetype": "text/x-python",
   "name": "python",
   "nbconvert_exporter": "python",
   "pygments_lexer": "ipython3",
   "version": "3.8.10"
  }
 },
 "nbformat": 4,
 "nbformat_minor": 5
}
