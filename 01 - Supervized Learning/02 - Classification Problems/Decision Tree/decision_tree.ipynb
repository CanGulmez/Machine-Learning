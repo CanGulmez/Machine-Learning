{
 "cells": [
  {
   "cell_type": "markdown",
   "metadata": {},
   "source": [
    "## Decision Tree\n",
    "------------"
   ]
  },
  {
   "cell_type": "code",
   "execution_count": 1,
   "metadata": {},
   "outputs": [
    {
     "name": "stdout",
     "output_type": "stream",
     "text": [
      "Real Values\n",
      "[['k']\n",
      " ['k']\n",
      " ['k']\n",
      " ['k']\n",
      " ['e']\n",
      " ['k']\n",
      " ['k']\n",
      " ['k']]\n",
      "Estimate Values\n",
      "['e' 'k' 'k' 'k' 'e' 'k' 'k' 'k']\n",
      "DT\n",
      "[[1 0]\n",
      " [1 6]]\n"
     ]
    }
   ],
   "source": [
    "# Import Data\n",
    "\n",
    "import numpy as np\n",
    "import matplotlib.pyplot as plt\n",
    "import pandas as pd\n",
    "\n",
    "# Load Data\n",
    "\n",
    "veriler = pd.read_csv('veriler.csv')\n",
    "\n",
    "x = veriler.iloc[:,1:4].values      # Independent Varibles\n",
    "y = veriler.iloc[:,4:].values       # Dependent Variables\n",
    "\n",
    "# Split Data\n",
    "\n",
    "from sklearn.model_selection import train_test_split\n",
    "\n",
    "x_train, x_test,y_train,y_test = train_test_split(x,y,test_size=0.33, random_state=0)\n",
    "\n",
    "# Scalling Data\n",
    "\n",
    "from sklearn.preprocessing import StandardScaler\n",
    "\n",
    "sc=StandardScaler()\n",
    "\n",
    "X_train = sc.fit_transform(x_train)\n",
    "X_test = sc.transform(x_test)\n",
    "\n",
    "# Decision tree\n",
    "\n",
    "from sklearn.tree import DecisionTreeClassifier\n",
    "\n",
    "# criterion = (\"entropy\", \"gini\") default = \"gini\"\n",
    "# splitter = (\"best\", \"random\") default = \"best\"\n",
    "\n",
    "dtc = DecisionTreeClassifier(criterion = 'gini', splitter = \"best\")\n",
    "\n",
    "# Train\n",
    "\n",
    "dtc.fit(X_train,y_train)\n",
    "\n",
    "# Forecast\n",
    "\n",
    "y_pred = dtc.predict(X_test)\n",
    "\n",
    "print(\"Real Values\")\n",
    "print(y_test)\n",
    "print(\"Estimate Values\")\n",
    "print(y_pred)\n",
    "\n",
    "# Confusion Matrix\n",
    "\n",
    "from sklearn.metrics import confusion_matrix\n",
    "cm = confusion_matrix(y_test,y_pred)\n",
    "\n",
    "print(\"DT\")\n",
    "print(cm)             "
   ]
  },
  {
   "cell_type": "code",
   "execution_count": null,
   "metadata": {},
   "outputs": [],
   "source": []
  }
 ],
 "metadata": {
  "kernelspec": {
   "display_name": "Python 3",
   "language": "python",
   "name": "python3"
  },
  "language_info": {
   "codemirror_mode": {
    "name": "ipython",
    "version": 3
   },
   "file_extension": ".py",
   "mimetype": "text/x-python",
   "name": "python",
   "nbconvert_exporter": "python",
   "pygments_lexer": "ipython3",
   "version": "3.8.10"
  }
 },
 "nbformat": 4,
 "nbformat_minor": 2
}
