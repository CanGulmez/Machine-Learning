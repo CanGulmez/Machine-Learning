{
 "cells": [
  {
   "cell_type": "markdown",
   "metadata": {},
   "source": [
    "## SUPPORT VECTOR MACHINE (SVM)\n",
    "---------"
   ]
  },
  {
   "cell_type": "code",
   "execution_count": 1,
   "metadata": {},
   "outputs": [
    {
     "name": "stdout",
     "output_type": "stream",
     "text": [
      "Real Value\n",
      "[['k']\n",
      " ['k']\n",
      " ['k']\n",
      " ['k']\n",
      " ['e']\n",
      " ['k']\n",
      " ['k']\n",
      " ['k']]\n",
      "Estimate Value\n",
      "['e' 'e' 'e' 'e' 'k' 'e' 'e' 'k']\n",
      "SVC\n",
      "[[0 1]\n",
      " [6 1]]\n"
     ]
    },
    {
     "name": "stderr",
     "output_type": "stream",
     "text": [
      "C:\\Users\\90545\\anaconda3\\envs\\data science\\lib\\site-packages\\sklearn\\utils\\validation.py:63: DataConversionWarning: A column-vector y was passed when a 1d array was expected. Please change the shape of y to (n_samples, ), for example using ravel().\n",
      "  return f(*args, **kwargs)\n"
     ]
    }
   ],
   "source": [
    "# Import Data\n",
    "\n",
    "import numpy as np\n",
    "import matplotlib.pyplot as plt\n",
    "import pandas as pd\n",
    "\n",
    "# Load Data\n",
    "\n",
    "veriler = pd.read_csv('veriler.csv')\n",
    "\n",
    "x = veriler.iloc[:,1:4].values      # Independent Variables\n",
    "y = veriler.iloc[:,4:].values       # Dependent \n",
    "\n",
    "# Split Data\n",
    "\n",
    "from sklearn.model_selection import train_test_split\n",
    "\n",
    "x_train, x_test, y_train, y_test = train_test_split(x,y,test_size=0.33, random_state=0)\n",
    "\n",
    "# Scalling Data\n",
    "\n",
    "from sklearn.preprocessing import StandardScaler\n",
    "\n",
    "sc=StandardScaler()\n",
    "\n",
    "X_train = sc.fit_transform(x_train)\n",
    "X_test = sc.transform(x_test)\n",
    "\n",
    "# SVC\n",
    "\n",
    "from sklearn.svm import SVC\n",
    "\n",
    "\"\"\"\n",
    "kernel: (\"rbf\", \"poly\", \"linear\", \"sigmoid\", \"precomputed\") default: \"rbf\"\n",
    "degree default: \"2\"\n",
    "gamma: (\"auto\", \"scale\") default: (\"scale\")\n",
    "\"\"\"\n",
    "\n",
    "svc = SVC(kernel = 'linear')   \n",
    "\n",
    "# Train\n",
    "\n",
    "svc.fit(X_train,y_train)\n",
    "\n",
    "# Forecast\n",
    "\n",
    "y_pred = svc.predict(X_test)\n",
    "\n",
    "print(\"Real Value\")\n",
    "print(y_test)\n",
    "print(\"Estimate Value\")\n",
    "print(y_pred)\n",
    "\n",
    "# Confusion Matrix\n",
    "\n",
    "from sklearn.metrics import confusion_matrix\n",
    "\n",
    "cm = confusion_matrix(y_test,y_pred)\n",
    "\n",
    "print('SVC')\n",
    "print(cm)"
   ]
  },
  {
   "cell_type": "code",
   "execution_count": null,
   "metadata": {},
   "outputs": [],
   "source": []
  }
 ],
 "metadata": {
  "kernelspec": {
   "display_name": "Python 3",
   "language": "python",
   "name": "python3"
  },
  "language_info": {
   "codemirror_mode": {
    "name": "ipython",
    "version": 3
   },
   "file_extension": ".py",
   "mimetype": "text/x-python",
   "name": "python",
   "nbconvert_exporter": "python",
   "pygments_lexer": "ipython3",
   "version": "3.8.10"
  }
 },
 "nbformat": 4,
 "nbformat_minor": 2
}
